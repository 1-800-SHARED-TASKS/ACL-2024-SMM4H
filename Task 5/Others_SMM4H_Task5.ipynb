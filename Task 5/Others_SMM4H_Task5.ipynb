{
  "nbformat": 4,
  "nbformat_minor": 0,
  "metadata": {
    "colab": {
      "provenance": [],
      "machine_shape": "hm",
      "gpuType": "V100"
    },
    "kernelspec": {
      "name": "python3",
      "display_name": "Python 3"
    },
    "language_info": {
      "name": "python"
    },
    "accelerator": "GPU"
  },
  "cells": [
    {
      "cell_type": "code",
      "execution_count": 1,
      "metadata": {
        "id": "c8bYZJGB0Dw1"
      },
      "outputs": [],
      "source": [
        "import pandas as pd\n",
        "df_train = pd.read_csv(\"/content/drive/MyDrive/SMM4H 2024/SMM4H-2024-Task5-Training.tsv\",sep=\"\\t\")\n",
        "df_dev = pd.read_csv(\"/content/drive/MyDrive/SMM4H 2024/SMM4H-2024-Task5-Validation.tsv\",sep=\"\\t\")"
      ]
    },
    {
      "cell_type": "code",
      "source": [
        "df_train"
      ],
      "metadata": {
        "colab": {
          "base_uri": "https://localhost:8080/",
          "height": 423
        },
        "id": "5OM5y_Rs7q4c",
        "outputId": "a2e83dc3-cf3a-4336-af44-0df49f1e5955"
      },
      "execution_count": 31,
      "outputs": [
        {
          "output_type": "execute_result",
          "data": {
            "text/plain": [
              "                 tweet_id                                               text  \\\n",
              "0     1364778927105933315  Psych Med Twitter, wondering if you can help. ...   \n",
              "1     1130719434526511104  @dmx_biographer @HellaChillAF I wouldn’t fuck ...   \n",
              "2     1184221813733253120  Harley is autistic.... she has the mental capa...   \n",
              "3     1435958387020341248  I just made my son cry before going to school ...   \n",
              "4     1112559025927999488  Yooooooo my dad really just said “I’d rather h...   \n",
              "...                   ...                                                ...   \n",
              "7393  1232778727186223108  Just got all kinds of dirty looks for ordering...   \n",
              "7394  1174782065532780544  anyways- if they did cause autism, i’d rather ...   \n",
              "7395  1052612940438728704  2/4 trouble at work and I could have lost my j...   \n",
              "7396  1243556662964862976  @LawyerChamber $LgiLder22 I have severe asthma...   \n",
              "7397  1011262796212985856  Of course there’s times I’ve been so frustrate...   \n",
              "\n",
              "      label  \n",
              "0         0  \n",
              "1         0  \n",
              "2         1  \n",
              "3         1  \n",
              "4         0  \n",
              "...     ...  \n",
              "7393      1  \n",
              "7394      0  \n",
              "7395      0  \n",
              "7396      1  \n",
              "7397      1  \n",
              "\n",
              "[7398 rows x 3 columns]"
            ],
            "text/html": [
              "\n",
              "  <div id=\"df-47625c13-19a0-41d2-9fee-a91be3858efe\" class=\"colab-df-container\">\n",
              "    <div>\n",
              "<style scoped>\n",
              "    .dataframe tbody tr th:only-of-type {\n",
              "        vertical-align: middle;\n",
              "    }\n",
              "\n",
              "    .dataframe tbody tr th {\n",
              "        vertical-align: top;\n",
              "    }\n",
              "\n",
              "    .dataframe thead th {\n",
              "        text-align: right;\n",
              "    }\n",
              "</style>\n",
              "<table border=\"1\" class=\"dataframe\">\n",
              "  <thead>\n",
              "    <tr style=\"text-align: right;\">\n",
              "      <th></th>\n",
              "      <th>tweet_id</th>\n",
              "      <th>text</th>\n",
              "      <th>label</th>\n",
              "    </tr>\n",
              "  </thead>\n",
              "  <tbody>\n",
              "    <tr>\n",
              "      <th>0</th>\n",
              "      <td>1364778927105933315</td>\n",
              "      <td>Psych Med Twitter, wondering if you can help. ...</td>\n",
              "      <td>0</td>\n",
              "    </tr>\n",
              "    <tr>\n",
              "      <th>1</th>\n",
              "      <td>1130719434526511104</td>\n",
              "      <td>@dmx_biographer @HellaChillAF I wouldn’t fuck ...</td>\n",
              "      <td>0</td>\n",
              "    </tr>\n",
              "    <tr>\n",
              "      <th>2</th>\n",
              "      <td>1184221813733253120</td>\n",
              "      <td>Harley is autistic.... she has the mental capa...</td>\n",
              "      <td>1</td>\n",
              "    </tr>\n",
              "    <tr>\n",
              "      <th>3</th>\n",
              "      <td>1435958387020341248</td>\n",
              "      <td>I just made my son cry before going to school ...</td>\n",
              "      <td>1</td>\n",
              "    </tr>\n",
              "    <tr>\n",
              "      <th>4</th>\n",
              "      <td>1112559025927999488</td>\n",
              "      <td>Yooooooo my dad really just said “I’d rather h...</td>\n",
              "      <td>0</td>\n",
              "    </tr>\n",
              "    <tr>\n",
              "      <th>...</th>\n",
              "      <td>...</td>\n",
              "      <td>...</td>\n",
              "      <td>...</td>\n",
              "    </tr>\n",
              "    <tr>\n",
              "      <th>7393</th>\n",
              "      <td>1232778727186223108</td>\n",
              "      <td>Just got all kinds of dirty looks for ordering...</td>\n",
              "      <td>1</td>\n",
              "    </tr>\n",
              "    <tr>\n",
              "      <th>7394</th>\n",
              "      <td>1174782065532780544</td>\n",
              "      <td>anyways- if they did cause autism, i’d rather ...</td>\n",
              "      <td>0</td>\n",
              "    </tr>\n",
              "    <tr>\n",
              "      <th>7395</th>\n",
              "      <td>1052612940438728704</td>\n",
              "      <td>2/4 trouble at work and I could have lost my j...</td>\n",
              "      <td>0</td>\n",
              "    </tr>\n",
              "    <tr>\n",
              "      <th>7396</th>\n",
              "      <td>1243556662964862976</td>\n",
              "      <td>@LawyerChamber $LgiLder22 I have severe asthma...</td>\n",
              "      <td>1</td>\n",
              "    </tr>\n",
              "    <tr>\n",
              "      <th>7397</th>\n",
              "      <td>1011262796212985856</td>\n",
              "      <td>Of course there’s times I’ve been so frustrate...</td>\n",
              "      <td>1</td>\n",
              "    </tr>\n",
              "  </tbody>\n",
              "</table>\n",
              "<p>7398 rows × 3 columns</p>\n",
              "</div>\n",
              "    <div class=\"colab-df-buttons\">\n",
              "\n",
              "  <div class=\"colab-df-container\">\n",
              "    <button class=\"colab-df-convert\" onclick=\"convertToInteractive('df-47625c13-19a0-41d2-9fee-a91be3858efe')\"\n",
              "            title=\"Convert this dataframe to an interactive table.\"\n",
              "            style=\"display:none;\">\n",
              "\n",
              "  <svg xmlns=\"http://www.w3.org/2000/svg\" height=\"24px\" viewBox=\"0 -960 960 960\">\n",
              "    <path d=\"M120-120v-720h720v720H120Zm60-500h600v-160H180v160Zm220 220h160v-160H400v160Zm0 220h160v-160H400v160ZM180-400h160v-160H180v160Zm440 0h160v-160H620v160ZM180-180h160v-160H180v160Zm440 0h160v-160H620v160Z\"/>\n",
              "  </svg>\n",
              "    </button>\n",
              "\n",
              "  <style>\n",
              "    .colab-df-container {\n",
              "      display:flex;\n",
              "      gap: 12px;\n",
              "    }\n",
              "\n",
              "    .colab-df-convert {\n",
              "      background-color: #E8F0FE;\n",
              "      border: none;\n",
              "      border-radius: 50%;\n",
              "      cursor: pointer;\n",
              "      display: none;\n",
              "      fill: #1967D2;\n",
              "      height: 32px;\n",
              "      padding: 0 0 0 0;\n",
              "      width: 32px;\n",
              "    }\n",
              "\n",
              "    .colab-df-convert:hover {\n",
              "      background-color: #E2EBFA;\n",
              "      box-shadow: 0px 1px 2px rgba(60, 64, 67, 0.3), 0px 1px 3px 1px rgba(60, 64, 67, 0.15);\n",
              "      fill: #174EA6;\n",
              "    }\n",
              "\n",
              "    .colab-df-buttons div {\n",
              "      margin-bottom: 4px;\n",
              "    }\n",
              "\n",
              "    [theme=dark] .colab-df-convert {\n",
              "      background-color: #3B4455;\n",
              "      fill: #D2E3FC;\n",
              "    }\n",
              "\n",
              "    [theme=dark] .colab-df-convert:hover {\n",
              "      background-color: #434B5C;\n",
              "      box-shadow: 0px 1px 3px 1px rgba(0, 0, 0, 0.15);\n",
              "      filter: drop-shadow(0px 1px 2px rgba(0, 0, 0, 0.3));\n",
              "      fill: #FFFFFF;\n",
              "    }\n",
              "  </style>\n",
              "\n",
              "    <script>\n",
              "      const buttonEl =\n",
              "        document.querySelector('#df-47625c13-19a0-41d2-9fee-a91be3858efe button.colab-df-convert');\n",
              "      buttonEl.style.display =\n",
              "        google.colab.kernel.accessAllowed ? 'block' : 'none';\n",
              "\n",
              "      async function convertToInteractive(key) {\n",
              "        const element = document.querySelector('#df-47625c13-19a0-41d2-9fee-a91be3858efe');\n",
              "        const dataTable =\n",
              "          await google.colab.kernel.invokeFunction('convertToInteractive',\n",
              "                                                    [key], {});\n",
              "        if (!dataTable) return;\n",
              "\n",
              "        const docLinkHtml = 'Like what you see? Visit the ' +\n",
              "          '<a target=\"_blank\" href=https://colab.research.google.com/notebooks/data_table.ipynb>data table notebook</a>'\n",
              "          + ' to learn more about interactive tables.';\n",
              "        element.innerHTML = '';\n",
              "        dataTable['output_type'] = 'display_data';\n",
              "        await google.colab.output.renderOutput(dataTable, element);\n",
              "        const docLink = document.createElement('div');\n",
              "        docLink.innerHTML = docLinkHtml;\n",
              "        element.appendChild(docLink);\n",
              "      }\n",
              "    </script>\n",
              "  </div>\n",
              "\n",
              "\n",
              "<div id=\"df-9fd1b5f7-c3d7-4569-bbe7-9001659acdaf\">\n",
              "  <button class=\"colab-df-quickchart\" onclick=\"quickchart('df-9fd1b5f7-c3d7-4569-bbe7-9001659acdaf')\"\n",
              "            title=\"Suggest charts\"\n",
              "            style=\"display:none;\">\n",
              "\n",
              "<svg xmlns=\"http://www.w3.org/2000/svg\" height=\"24px\"viewBox=\"0 0 24 24\"\n",
              "     width=\"24px\">\n",
              "    <g>\n",
              "        <path d=\"M19 3H5c-1.1 0-2 .9-2 2v14c0 1.1.9 2 2 2h14c1.1 0 2-.9 2-2V5c0-1.1-.9-2-2-2zM9 17H7v-7h2v7zm4 0h-2V7h2v10zm4 0h-2v-4h2v4z\"/>\n",
              "    </g>\n",
              "</svg>\n",
              "  </button>\n",
              "\n",
              "<style>\n",
              "  .colab-df-quickchart {\n",
              "      --bg-color: #E8F0FE;\n",
              "      --fill-color: #1967D2;\n",
              "      --hover-bg-color: #E2EBFA;\n",
              "      --hover-fill-color: #174EA6;\n",
              "      --disabled-fill-color: #AAA;\n",
              "      --disabled-bg-color: #DDD;\n",
              "  }\n",
              "\n",
              "  [theme=dark] .colab-df-quickchart {\n",
              "      --bg-color: #3B4455;\n",
              "      --fill-color: #D2E3FC;\n",
              "      --hover-bg-color: #434B5C;\n",
              "      --hover-fill-color: #FFFFFF;\n",
              "      --disabled-bg-color: #3B4455;\n",
              "      --disabled-fill-color: #666;\n",
              "  }\n",
              "\n",
              "  .colab-df-quickchart {\n",
              "    background-color: var(--bg-color);\n",
              "    border: none;\n",
              "    border-radius: 50%;\n",
              "    cursor: pointer;\n",
              "    display: none;\n",
              "    fill: var(--fill-color);\n",
              "    height: 32px;\n",
              "    padding: 0;\n",
              "    width: 32px;\n",
              "  }\n",
              "\n",
              "  .colab-df-quickchart:hover {\n",
              "    background-color: var(--hover-bg-color);\n",
              "    box-shadow: 0 1px 2px rgba(60, 64, 67, 0.3), 0 1px 3px 1px rgba(60, 64, 67, 0.15);\n",
              "    fill: var(--button-hover-fill-color);\n",
              "  }\n",
              "\n",
              "  .colab-df-quickchart-complete:disabled,\n",
              "  .colab-df-quickchart-complete:disabled:hover {\n",
              "    background-color: var(--disabled-bg-color);\n",
              "    fill: var(--disabled-fill-color);\n",
              "    box-shadow: none;\n",
              "  }\n",
              "\n",
              "  .colab-df-spinner {\n",
              "    border: 2px solid var(--fill-color);\n",
              "    border-color: transparent;\n",
              "    border-bottom-color: var(--fill-color);\n",
              "    animation:\n",
              "      spin 1s steps(1) infinite;\n",
              "  }\n",
              "\n",
              "  @keyframes spin {\n",
              "    0% {\n",
              "      border-color: transparent;\n",
              "      border-bottom-color: var(--fill-color);\n",
              "      border-left-color: var(--fill-color);\n",
              "    }\n",
              "    20% {\n",
              "      border-color: transparent;\n",
              "      border-left-color: var(--fill-color);\n",
              "      border-top-color: var(--fill-color);\n",
              "    }\n",
              "    30% {\n",
              "      border-color: transparent;\n",
              "      border-left-color: var(--fill-color);\n",
              "      border-top-color: var(--fill-color);\n",
              "      border-right-color: var(--fill-color);\n",
              "    }\n",
              "    40% {\n",
              "      border-color: transparent;\n",
              "      border-right-color: var(--fill-color);\n",
              "      border-top-color: var(--fill-color);\n",
              "    }\n",
              "    60% {\n",
              "      border-color: transparent;\n",
              "      border-right-color: var(--fill-color);\n",
              "    }\n",
              "    80% {\n",
              "      border-color: transparent;\n",
              "      border-right-color: var(--fill-color);\n",
              "      border-bottom-color: var(--fill-color);\n",
              "    }\n",
              "    90% {\n",
              "      border-color: transparent;\n",
              "      border-bottom-color: var(--fill-color);\n",
              "    }\n",
              "  }\n",
              "</style>\n",
              "\n",
              "  <script>\n",
              "    async function quickchart(key) {\n",
              "      const quickchartButtonEl =\n",
              "        document.querySelector('#' + key + ' button');\n",
              "      quickchartButtonEl.disabled = true;  // To prevent multiple clicks.\n",
              "      quickchartButtonEl.classList.add('colab-df-spinner');\n",
              "      try {\n",
              "        const charts = await google.colab.kernel.invokeFunction(\n",
              "            'suggestCharts', [key], {});\n",
              "      } catch (error) {\n",
              "        console.error('Error during call to suggestCharts:', error);\n",
              "      }\n",
              "      quickchartButtonEl.classList.remove('colab-df-spinner');\n",
              "      quickchartButtonEl.classList.add('colab-df-quickchart-complete');\n",
              "    }\n",
              "    (() => {\n",
              "      let quickchartButtonEl =\n",
              "        document.querySelector('#df-9fd1b5f7-c3d7-4569-bbe7-9001659acdaf button');\n",
              "      quickchartButtonEl.style.display =\n",
              "        google.colab.kernel.accessAllowed ? 'block' : 'none';\n",
              "    })();\n",
              "  </script>\n",
              "</div>\n",
              "\n",
              "  <div id=\"id_23e9ac4d-87fd-48e0-99f1-5f76d550629c\">\n",
              "    <style>\n",
              "      .colab-df-generate {\n",
              "        background-color: #E8F0FE;\n",
              "        border: none;\n",
              "        border-radius: 50%;\n",
              "        cursor: pointer;\n",
              "        display: none;\n",
              "        fill: #1967D2;\n",
              "        height: 32px;\n",
              "        padding: 0 0 0 0;\n",
              "        width: 32px;\n",
              "      }\n",
              "\n",
              "      .colab-df-generate:hover {\n",
              "        background-color: #E2EBFA;\n",
              "        box-shadow: 0px 1px 2px rgba(60, 64, 67, 0.3), 0px 1px 3px 1px rgba(60, 64, 67, 0.15);\n",
              "        fill: #174EA6;\n",
              "      }\n",
              "\n",
              "      [theme=dark] .colab-df-generate {\n",
              "        background-color: #3B4455;\n",
              "        fill: #D2E3FC;\n",
              "      }\n",
              "\n",
              "      [theme=dark] .colab-df-generate:hover {\n",
              "        background-color: #434B5C;\n",
              "        box-shadow: 0px 1px 3px 1px rgba(0, 0, 0, 0.15);\n",
              "        filter: drop-shadow(0px 1px 2px rgba(0, 0, 0, 0.3));\n",
              "        fill: #FFFFFF;\n",
              "      }\n",
              "    </style>\n",
              "    <button class=\"colab-df-generate\" onclick=\"generateWithVariable('df_train')\"\n",
              "            title=\"Generate code using this dataframe.\"\n",
              "            style=\"display:none;\">\n",
              "\n",
              "  <svg xmlns=\"http://www.w3.org/2000/svg\" height=\"24px\"viewBox=\"0 0 24 24\"\n",
              "       width=\"24px\">\n",
              "    <path d=\"M7,19H8.4L18.45,9,17,7.55,7,17.6ZM5,21V16.75L18.45,3.32a2,2,0,0,1,2.83,0l1.4,1.43a1.91,1.91,0,0,1,.58,1.4,1.91,1.91,0,0,1-.58,1.4L9.25,21ZM18.45,9,17,7.55Zm-12,3A5.31,5.31,0,0,0,4.9,8.1,5.31,5.31,0,0,0,1,6.5,5.31,5.31,0,0,0,4.9,4.9,5.31,5.31,0,0,0,6.5,1,5.31,5.31,0,0,0,8.1,4.9,5.31,5.31,0,0,0,12,6.5,5.46,5.46,0,0,0,6.5,12Z\"/>\n",
              "  </svg>\n",
              "    </button>\n",
              "    <script>\n",
              "      (() => {\n",
              "      const buttonEl =\n",
              "        document.querySelector('#id_23e9ac4d-87fd-48e0-99f1-5f76d550629c button.colab-df-generate');\n",
              "      buttonEl.style.display =\n",
              "        google.colab.kernel.accessAllowed ? 'block' : 'none';\n",
              "\n",
              "      buttonEl.onclick = () => {\n",
              "        google.colab.notebook.generateWithVariable('df_train');\n",
              "      }\n",
              "      })();\n",
              "    </script>\n",
              "  </div>\n",
              "\n",
              "    </div>\n",
              "  </div>\n"
            ],
            "application/vnd.google.colaboratory.intrinsic+json": {
              "type": "dataframe",
              "variable_name": "df_train",
              "summary": "{\n  \"name\": \"df_train\",\n  \"rows\": 7398,\n  \"fields\": [\n    {\n      \"column\": \"tweet_id\",\n      \"properties\": {\n        \"dtype\": \"number\",\n        \"std\": 196286580051337952,\n        \"min\": 7354500973,\n        \"max\": 1495834300113166341,\n        \"num_unique_values\": 7398,\n        \"samples\": [\n          1265305799632379904,\n          1046187387141935105,\n          1042639916113567744\n        ],\n        \"semantic_type\": \"\",\n        \"description\": \"\"\n      }\n    },\n    {\n      \"column\": \"text\",\n      \"properties\": {\n        \"dtype\": \"string\",\n        \"num_unique_values\": 7398,\n        \"samples\": [\n          \"I really don\\u2019t wanna see that video of that lady pushing her non-verbal autistic son in the lake. Please stop.\",\n          \"Girl she physically attacked a kid with autism and you expect anyone to have any compassion for your sister I think the fuck not she\\u2019ll get her ass rocked and if u want in at it so will you :) https://t.co/e5GyKuFhhR\",\n          \"i'm the hyperlexic bilingual autistic child of a copywriter/editor &amp; used to request the dictionary &amp; elements of style as bedtime stories\"\n        ],\n        \"semantic_type\": \"\",\n        \"description\": \"\"\n      }\n    },\n    {\n      \"column\": \"label\",\n      \"properties\": {\n        \"dtype\": \"number\",\n        \"std\": 0,\n        \"min\": 0,\n        \"max\": 1,\n        \"num_unique_values\": 2,\n        \"samples\": [\n          1,\n          0\n        ],\n        \"semantic_type\": \"\",\n        \"description\": \"\"\n      }\n    }\n  ]\n}"
            }
          },
          "metadata": {},
          "execution_count": 31
        }
      ]
    },
    {
      "cell_type": "code",
      "source": [
        "df_dev"
      ],
      "metadata": {
        "colab": {
          "base_uri": "https://localhost:8080/",
          "height": 423
        },
        "id": "0PEv9An87tIF",
        "outputId": "30c8b478-288e-4234-8ded-3e0269546a6e"
      },
      "execution_count": 32,
      "outputs": [
        {
          "output_type": "execute_result",
          "data": {
            "text/plain": [
              "                tweet_id                                               text  \\\n",
              "0    1265323726570225669  Mom Finds Secret to Homeschooling her Autistic...   \n",
              "1    1254180961622900738  I hope our child has my calmness and NOT Andre...   \n",
              "2     800336385399885824  Blind Girl With Autism Mimics Whitney Houston ...   \n",
              "3    1107948318150152192  @amyschumer watching #growing, my 2yo son has ...   \n",
              "4    1438320313511473154  @robbystarbuck @AmericanAir would rather a mot...   \n",
              "..                   ...                                                ...   \n",
              "384  1479160193808273413  my 7yo is being tested for adhd and struggles ...   \n",
              "385  1084086161667252225  @attachedmrsL the first reply on the tweet tho...   \n",
              "386  1404612356819374080  There's a mom who recorded her autistic son &a...   \n",
              "387  1458807608052174856  @itsadollthxng Lmfao girl !!! I’m upset fr cau...   \n",
              "388  1299153969009184768  @aaronraidersfan @DeusYeet64 @Struggforreal @f...   \n",
              "\n",
              "     label  \n",
              "0        0  \n",
              "1        0  \n",
              "2        0  \n",
              "3        1  \n",
              "4        0  \n",
              "..     ...  \n",
              "384      0  \n",
              "385      0  \n",
              "386      0  \n",
              "387      1  \n",
              "388      1  \n",
              "\n",
              "[389 rows x 3 columns]"
            ],
            "text/html": [
              "\n",
              "  <div id=\"df-a4b0639e-e1b3-4a1e-b6b5-254530b7535a\" class=\"colab-df-container\">\n",
              "    <div>\n",
              "<style scoped>\n",
              "    .dataframe tbody tr th:only-of-type {\n",
              "        vertical-align: middle;\n",
              "    }\n",
              "\n",
              "    .dataframe tbody tr th {\n",
              "        vertical-align: top;\n",
              "    }\n",
              "\n",
              "    .dataframe thead th {\n",
              "        text-align: right;\n",
              "    }\n",
              "</style>\n",
              "<table border=\"1\" class=\"dataframe\">\n",
              "  <thead>\n",
              "    <tr style=\"text-align: right;\">\n",
              "      <th></th>\n",
              "      <th>tweet_id</th>\n",
              "      <th>text</th>\n",
              "      <th>label</th>\n",
              "    </tr>\n",
              "  </thead>\n",
              "  <tbody>\n",
              "    <tr>\n",
              "      <th>0</th>\n",
              "      <td>1265323726570225669</td>\n",
              "      <td>Mom Finds Secret to Homeschooling her Autistic...</td>\n",
              "      <td>0</td>\n",
              "    </tr>\n",
              "    <tr>\n",
              "      <th>1</th>\n",
              "      <td>1254180961622900738</td>\n",
              "      <td>I hope our child has my calmness and NOT Andre...</td>\n",
              "      <td>0</td>\n",
              "    </tr>\n",
              "    <tr>\n",
              "      <th>2</th>\n",
              "      <td>800336385399885824</td>\n",
              "      <td>Blind Girl With Autism Mimics Whitney Houston ...</td>\n",
              "      <td>0</td>\n",
              "    </tr>\n",
              "    <tr>\n",
              "      <th>3</th>\n",
              "      <td>1107948318150152192</td>\n",
              "      <td>@amyschumer watching #growing, my 2yo son has ...</td>\n",
              "      <td>1</td>\n",
              "    </tr>\n",
              "    <tr>\n",
              "      <th>4</th>\n",
              "      <td>1438320313511473154</td>\n",
              "      <td>@robbystarbuck @AmericanAir would rather a mot...</td>\n",
              "      <td>0</td>\n",
              "    </tr>\n",
              "    <tr>\n",
              "      <th>...</th>\n",
              "      <td>...</td>\n",
              "      <td>...</td>\n",
              "      <td>...</td>\n",
              "    </tr>\n",
              "    <tr>\n",
              "      <th>384</th>\n",
              "      <td>1479160193808273413</td>\n",
              "      <td>my 7yo is being tested for adhd and struggles ...</td>\n",
              "      <td>0</td>\n",
              "    </tr>\n",
              "    <tr>\n",
              "      <th>385</th>\n",
              "      <td>1084086161667252225</td>\n",
              "      <td>@attachedmrsL the first reply on the tweet tho...</td>\n",
              "      <td>0</td>\n",
              "    </tr>\n",
              "    <tr>\n",
              "      <th>386</th>\n",
              "      <td>1404612356819374080</td>\n",
              "      <td>There's a mom who recorded her autistic son &amp;a...</td>\n",
              "      <td>0</td>\n",
              "    </tr>\n",
              "    <tr>\n",
              "      <th>387</th>\n",
              "      <td>1458807608052174856</td>\n",
              "      <td>@itsadollthxng Lmfao girl !!! I’m upset fr cau...</td>\n",
              "      <td>1</td>\n",
              "    </tr>\n",
              "    <tr>\n",
              "      <th>388</th>\n",
              "      <td>1299153969009184768</td>\n",
              "      <td>@aaronraidersfan @DeusYeet64 @Struggforreal @f...</td>\n",
              "      <td>1</td>\n",
              "    </tr>\n",
              "  </tbody>\n",
              "</table>\n",
              "<p>389 rows × 3 columns</p>\n",
              "</div>\n",
              "    <div class=\"colab-df-buttons\">\n",
              "\n",
              "  <div class=\"colab-df-container\">\n",
              "    <button class=\"colab-df-convert\" onclick=\"convertToInteractive('df-a4b0639e-e1b3-4a1e-b6b5-254530b7535a')\"\n",
              "            title=\"Convert this dataframe to an interactive table.\"\n",
              "            style=\"display:none;\">\n",
              "\n",
              "  <svg xmlns=\"http://www.w3.org/2000/svg\" height=\"24px\" viewBox=\"0 -960 960 960\">\n",
              "    <path d=\"M120-120v-720h720v720H120Zm60-500h600v-160H180v160Zm220 220h160v-160H400v160Zm0 220h160v-160H400v160ZM180-400h160v-160H180v160Zm440 0h160v-160H620v160ZM180-180h160v-160H180v160Zm440 0h160v-160H620v160Z\"/>\n",
              "  </svg>\n",
              "    </button>\n",
              "\n",
              "  <style>\n",
              "    .colab-df-container {\n",
              "      display:flex;\n",
              "      gap: 12px;\n",
              "    }\n",
              "\n",
              "    .colab-df-convert {\n",
              "      background-color: #E8F0FE;\n",
              "      border: none;\n",
              "      border-radius: 50%;\n",
              "      cursor: pointer;\n",
              "      display: none;\n",
              "      fill: #1967D2;\n",
              "      height: 32px;\n",
              "      padding: 0 0 0 0;\n",
              "      width: 32px;\n",
              "    }\n",
              "\n",
              "    .colab-df-convert:hover {\n",
              "      background-color: #E2EBFA;\n",
              "      box-shadow: 0px 1px 2px rgba(60, 64, 67, 0.3), 0px 1px 3px 1px rgba(60, 64, 67, 0.15);\n",
              "      fill: #174EA6;\n",
              "    }\n",
              "\n",
              "    .colab-df-buttons div {\n",
              "      margin-bottom: 4px;\n",
              "    }\n",
              "\n",
              "    [theme=dark] .colab-df-convert {\n",
              "      background-color: #3B4455;\n",
              "      fill: #D2E3FC;\n",
              "    }\n",
              "\n",
              "    [theme=dark] .colab-df-convert:hover {\n",
              "      background-color: #434B5C;\n",
              "      box-shadow: 0px 1px 3px 1px rgba(0, 0, 0, 0.15);\n",
              "      filter: drop-shadow(0px 1px 2px rgba(0, 0, 0, 0.3));\n",
              "      fill: #FFFFFF;\n",
              "    }\n",
              "  </style>\n",
              "\n",
              "    <script>\n",
              "      const buttonEl =\n",
              "        document.querySelector('#df-a4b0639e-e1b3-4a1e-b6b5-254530b7535a button.colab-df-convert');\n",
              "      buttonEl.style.display =\n",
              "        google.colab.kernel.accessAllowed ? 'block' : 'none';\n",
              "\n",
              "      async function convertToInteractive(key) {\n",
              "        const element = document.querySelector('#df-a4b0639e-e1b3-4a1e-b6b5-254530b7535a');\n",
              "        const dataTable =\n",
              "          await google.colab.kernel.invokeFunction('convertToInteractive',\n",
              "                                                    [key], {});\n",
              "        if (!dataTable) return;\n",
              "\n",
              "        const docLinkHtml = 'Like what you see? Visit the ' +\n",
              "          '<a target=\"_blank\" href=https://colab.research.google.com/notebooks/data_table.ipynb>data table notebook</a>'\n",
              "          + ' to learn more about interactive tables.';\n",
              "        element.innerHTML = '';\n",
              "        dataTable['output_type'] = 'display_data';\n",
              "        await google.colab.output.renderOutput(dataTable, element);\n",
              "        const docLink = document.createElement('div');\n",
              "        docLink.innerHTML = docLinkHtml;\n",
              "        element.appendChild(docLink);\n",
              "      }\n",
              "    </script>\n",
              "  </div>\n",
              "\n",
              "\n",
              "<div id=\"df-df636342-1ae1-4792-b2cd-281a43be48ff\">\n",
              "  <button class=\"colab-df-quickchart\" onclick=\"quickchart('df-df636342-1ae1-4792-b2cd-281a43be48ff')\"\n",
              "            title=\"Suggest charts\"\n",
              "            style=\"display:none;\">\n",
              "\n",
              "<svg xmlns=\"http://www.w3.org/2000/svg\" height=\"24px\"viewBox=\"0 0 24 24\"\n",
              "     width=\"24px\">\n",
              "    <g>\n",
              "        <path d=\"M19 3H5c-1.1 0-2 .9-2 2v14c0 1.1.9 2 2 2h14c1.1 0 2-.9 2-2V5c0-1.1-.9-2-2-2zM9 17H7v-7h2v7zm4 0h-2V7h2v10zm4 0h-2v-4h2v4z\"/>\n",
              "    </g>\n",
              "</svg>\n",
              "  </button>\n",
              "\n",
              "<style>\n",
              "  .colab-df-quickchart {\n",
              "      --bg-color: #E8F0FE;\n",
              "      --fill-color: #1967D2;\n",
              "      --hover-bg-color: #E2EBFA;\n",
              "      --hover-fill-color: #174EA6;\n",
              "      --disabled-fill-color: #AAA;\n",
              "      --disabled-bg-color: #DDD;\n",
              "  }\n",
              "\n",
              "  [theme=dark] .colab-df-quickchart {\n",
              "      --bg-color: #3B4455;\n",
              "      --fill-color: #D2E3FC;\n",
              "      --hover-bg-color: #434B5C;\n",
              "      --hover-fill-color: #FFFFFF;\n",
              "      --disabled-bg-color: #3B4455;\n",
              "      --disabled-fill-color: #666;\n",
              "  }\n",
              "\n",
              "  .colab-df-quickchart {\n",
              "    background-color: var(--bg-color);\n",
              "    border: none;\n",
              "    border-radius: 50%;\n",
              "    cursor: pointer;\n",
              "    display: none;\n",
              "    fill: var(--fill-color);\n",
              "    height: 32px;\n",
              "    padding: 0;\n",
              "    width: 32px;\n",
              "  }\n",
              "\n",
              "  .colab-df-quickchart:hover {\n",
              "    background-color: var(--hover-bg-color);\n",
              "    box-shadow: 0 1px 2px rgba(60, 64, 67, 0.3), 0 1px 3px 1px rgba(60, 64, 67, 0.15);\n",
              "    fill: var(--button-hover-fill-color);\n",
              "  }\n",
              "\n",
              "  .colab-df-quickchart-complete:disabled,\n",
              "  .colab-df-quickchart-complete:disabled:hover {\n",
              "    background-color: var(--disabled-bg-color);\n",
              "    fill: var(--disabled-fill-color);\n",
              "    box-shadow: none;\n",
              "  }\n",
              "\n",
              "  .colab-df-spinner {\n",
              "    border: 2px solid var(--fill-color);\n",
              "    border-color: transparent;\n",
              "    border-bottom-color: var(--fill-color);\n",
              "    animation:\n",
              "      spin 1s steps(1) infinite;\n",
              "  }\n",
              "\n",
              "  @keyframes spin {\n",
              "    0% {\n",
              "      border-color: transparent;\n",
              "      border-bottom-color: var(--fill-color);\n",
              "      border-left-color: var(--fill-color);\n",
              "    }\n",
              "    20% {\n",
              "      border-color: transparent;\n",
              "      border-left-color: var(--fill-color);\n",
              "      border-top-color: var(--fill-color);\n",
              "    }\n",
              "    30% {\n",
              "      border-color: transparent;\n",
              "      border-left-color: var(--fill-color);\n",
              "      border-top-color: var(--fill-color);\n",
              "      border-right-color: var(--fill-color);\n",
              "    }\n",
              "    40% {\n",
              "      border-color: transparent;\n",
              "      border-right-color: var(--fill-color);\n",
              "      border-top-color: var(--fill-color);\n",
              "    }\n",
              "    60% {\n",
              "      border-color: transparent;\n",
              "      border-right-color: var(--fill-color);\n",
              "    }\n",
              "    80% {\n",
              "      border-color: transparent;\n",
              "      border-right-color: var(--fill-color);\n",
              "      border-bottom-color: var(--fill-color);\n",
              "    }\n",
              "    90% {\n",
              "      border-color: transparent;\n",
              "      border-bottom-color: var(--fill-color);\n",
              "    }\n",
              "  }\n",
              "</style>\n",
              "\n",
              "  <script>\n",
              "    async function quickchart(key) {\n",
              "      const quickchartButtonEl =\n",
              "        document.querySelector('#' + key + ' button');\n",
              "      quickchartButtonEl.disabled = true;  // To prevent multiple clicks.\n",
              "      quickchartButtonEl.classList.add('colab-df-spinner');\n",
              "      try {\n",
              "        const charts = await google.colab.kernel.invokeFunction(\n",
              "            'suggestCharts', [key], {});\n",
              "      } catch (error) {\n",
              "        console.error('Error during call to suggestCharts:', error);\n",
              "      }\n",
              "      quickchartButtonEl.classList.remove('colab-df-spinner');\n",
              "      quickchartButtonEl.classList.add('colab-df-quickchart-complete');\n",
              "    }\n",
              "    (() => {\n",
              "      let quickchartButtonEl =\n",
              "        document.querySelector('#df-df636342-1ae1-4792-b2cd-281a43be48ff button');\n",
              "      quickchartButtonEl.style.display =\n",
              "        google.colab.kernel.accessAllowed ? 'block' : 'none';\n",
              "    })();\n",
              "  </script>\n",
              "</div>\n",
              "\n",
              "  <div id=\"id_9f75cde0-d2a1-4c9e-972f-91fb3cec9774\">\n",
              "    <style>\n",
              "      .colab-df-generate {\n",
              "        background-color: #E8F0FE;\n",
              "        border: none;\n",
              "        border-radius: 50%;\n",
              "        cursor: pointer;\n",
              "        display: none;\n",
              "        fill: #1967D2;\n",
              "        height: 32px;\n",
              "        padding: 0 0 0 0;\n",
              "        width: 32px;\n",
              "      }\n",
              "\n",
              "      .colab-df-generate:hover {\n",
              "        background-color: #E2EBFA;\n",
              "        box-shadow: 0px 1px 2px rgba(60, 64, 67, 0.3), 0px 1px 3px 1px rgba(60, 64, 67, 0.15);\n",
              "        fill: #174EA6;\n",
              "      }\n",
              "\n",
              "      [theme=dark] .colab-df-generate {\n",
              "        background-color: #3B4455;\n",
              "        fill: #D2E3FC;\n",
              "      }\n",
              "\n",
              "      [theme=dark] .colab-df-generate:hover {\n",
              "        background-color: #434B5C;\n",
              "        box-shadow: 0px 1px 3px 1px rgba(0, 0, 0, 0.15);\n",
              "        filter: drop-shadow(0px 1px 2px rgba(0, 0, 0, 0.3));\n",
              "        fill: #FFFFFF;\n",
              "      }\n",
              "    </style>\n",
              "    <button class=\"colab-df-generate\" onclick=\"generateWithVariable('df_dev')\"\n",
              "            title=\"Generate code using this dataframe.\"\n",
              "            style=\"display:none;\">\n",
              "\n",
              "  <svg xmlns=\"http://www.w3.org/2000/svg\" height=\"24px\"viewBox=\"0 0 24 24\"\n",
              "       width=\"24px\">\n",
              "    <path d=\"M7,19H8.4L18.45,9,17,7.55,7,17.6ZM5,21V16.75L18.45,3.32a2,2,0,0,1,2.83,0l1.4,1.43a1.91,1.91,0,0,1,.58,1.4,1.91,1.91,0,0,1-.58,1.4L9.25,21ZM18.45,9,17,7.55Zm-12,3A5.31,5.31,0,0,0,4.9,8.1,5.31,5.31,0,0,0,1,6.5,5.31,5.31,0,0,0,4.9,4.9,5.31,5.31,0,0,0,6.5,1,5.31,5.31,0,0,0,8.1,4.9,5.31,5.31,0,0,0,12,6.5,5.46,5.46,0,0,0,6.5,12Z\"/>\n",
              "  </svg>\n",
              "    </button>\n",
              "    <script>\n",
              "      (() => {\n",
              "      const buttonEl =\n",
              "        document.querySelector('#id_9f75cde0-d2a1-4c9e-972f-91fb3cec9774 button.colab-df-generate');\n",
              "      buttonEl.style.display =\n",
              "        google.colab.kernel.accessAllowed ? 'block' : 'none';\n",
              "\n",
              "      buttonEl.onclick = () => {\n",
              "        google.colab.notebook.generateWithVariable('df_dev');\n",
              "      }\n",
              "      })();\n",
              "    </script>\n",
              "  </div>\n",
              "\n",
              "    </div>\n",
              "  </div>\n"
            ],
            "application/vnd.google.colaboratory.intrinsic+json": {
              "type": "dataframe",
              "variable_name": "df_dev",
              "summary": "{\n  \"name\": \"df_dev\",\n  \"rows\": 389,\n  \"fields\": [\n    {\n      \"column\": \"tweet_id\",\n      \"properties\": {\n        \"dtype\": \"number\",\n        \"std\": 211957524938273536,\n        \"min\": 130152961782448128,\n        \"max\": 1495794101073158149,\n        \"num_unique_values\": 389,\n        \"samples\": [\n          1005471094302756865,\n          1293745643094249473,\n          1193056004956704768\n        ],\n        \"semantic_type\": \"\",\n        \"description\": \"\"\n      }\n    },\n    {\n      \"column\": \"text\",\n      \"properties\": {\n        \"dtype\": \"string\",\n        \"num_unique_values\": 389,\n        \"samples\": [\n          \"@danabadala @ChloeMorello They have all these beliefs and shit and that\\u2019s why they don\\u2019t want to basically following trends my sister did it bc she believes her son has autism bc of it I told her I have 2 kids who are finely vaccinated and I\\u2019m 6.5 months and getting him vaccinated as well.\",\n          \"Ken just spelled her name backwards, just to flex on me while I was tucking her in. My baby with the speech delay spelled her name backwards. Where is the champagne?! \\ud83d\\ude2d\",\n          \"I am currently sending myself into a panic thinking my child has asthma, but I just now think he has a bad cough. I gave him some medicine and now the cough has died down and he says he feels a bit better. I hate worrying. \\ud83d\\ude14\"\n        ],\n        \"semantic_type\": \"\",\n        \"description\": \"\"\n      }\n    },\n    {\n      \"column\": \"label\",\n      \"properties\": {\n        \"dtype\": \"number\",\n        \"std\": 0,\n        \"min\": 0,\n        \"max\": 1,\n        \"num_unique_values\": 2,\n        \"samples\": [\n          1,\n          0\n        ],\n        \"semantic_type\": \"\",\n        \"description\": \"\"\n      }\n    }\n  ]\n}"
            }
          },
          "metadata": {},
          "execution_count": 32
        }
      ]
    },
    {
      "cell_type": "code",
      "source": [
        "print(len(df_train))\n",
        "print(len(df_dev))"
      ],
      "metadata": {
        "colab": {
          "base_uri": "https://localhost:8080/"
        },
        "id": "iTUUmZuM3w0x",
        "outputId": "7b1bdef5-bf21-4aa9-9dc1-c541c235f2e3"
      },
      "execution_count": 15,
      "outputs": [
        {
          "output_type": "stream",
          "name": "stdout",
          "text": [
            "7398\n",
            "389\n"
          ]
        }
      ]
    },
    {
      "cell_type": "code",
      "source": [
        "df_train_div = pd.read_json('/content/drive/MyDrive/SMM4H 2024/something/train_diversities.jsonl', lines=True)\n",
        "df_dev_div = pd.read_json('/content/drive/MyDrive/SMM4H 2024/something/dev_diversities.jsonl', lines=True)"
      ],
      "metadata": {
        "id": "h3-HrWHb2Gqd"
      },
      "execution_count": 2,
      "outputs": []
    },
    {
      "cell_type": "code",
      "source": [
        "import pickle\n",
        "def load_pickle_object(file_path):\n",
        "    with open(file_path, 'rb') as file:\n",
        "        return pickle.load(file)\n",
        "vectorizer_pos = load_pickle_object('/content/drive/MyDrive/SMM4H 2024/something/pos_vectorizer.pkl')"
      ],
      "metadata": {
        "id": "EmCf76gN2eCy"
      },
      "execution_count": 6,
      "outputs": []
    },
    {
      "cell_type": "code",
      "source": [
        "import numpy as np\n",
        "def load_npz_file(file_path, array_index=0):\n",
        "    data = np.load(file_path)\n",
        "    return data[data.files[array_index]]\n",
        "train_data_pos = load_npz_file('/content/drive/MyDrive/SMM4H 2024/something/pos_tf.npz')\n",
        "dev_data_pos = load_npz_file('/content/drive/MyDrive/SMM4H 2024/something/pos_tf_dev.npz')"
      ],
      "metadata": {
        "id": "MuURvt2B3J6v"
      },
      "execution_count": 7,
      "outputs": []
    },
    {
      "cell_type": "code",
      "source": [
        "print(len(train_data_pos))\n",
        "print(len(dev_data_pos))"
      ],
      "metadata": {
        "colab": {
          "base_uri": "https://localhost:8080/"
        },
        "id": "0f-7-Vi53SMp",
        "outputId": "8ecdf50f-d3aa-4877-8e21-897cf4b94c7d"
      },
      "execution_count": 14,
      "outputs": [
        {
          "output_type": "stream",
          "name": "stdout",
          "text": [
            "373965\n",
            "19039\n"
          ]
        }
      ]
    },
    {
      "cell_type": "code",
      "source": [
        "import pickle\n",
        "def load_pickle_object(file_path):\n",
        "    with open(file_path, 'rb') as file:\n",
        "        return pickle.load(file)\n",
        "vectorizer_shape = load_pickle_object('/content/drive/MyDrive/SMM4H 2024/something/shape_vectorizer.pkl')"
      ],
      "metadata": {
        "id": "Dj1ViZex3T1h"
      },
      "execution_count": 16,
      "outputs": []
    },
    {
      "cell_type": "code",
      "source": [
        "import numpy as np\n",
        "def load_npz_file(file_path, array_index=0):\n",
        "    data = np.load(file_path)\n",
        "    return data[data.files[array_index]]\n",
        "train_data_shape = load_npz_file('/content/drive/MyDrive/SMM4H 2024/something/shape_tf.npz')\n",
        "dev_data_shape = load_npz_file('/content/drive/MyDrive/SMM4H 2024/something/shape_tf_dev.npz')"
      ],
      "metadata": {
        "id": "aUyEsW604O_v"
      },
      "execution_count": 17,
      "outputs": []
    },
    {
      "cell_type": "code",
      "source": [
        "print(len(train_data_shape))\n",
        "print(len(dev_data_shape))"
      ],
      "metadata": {
        "colab": {
          "base_uri": "https://localhost:8080/"
        },
        "id": "qB8HmFWc4WJr",
        "outputId": "9e1aaf6a-ecc5-48df-b1a5-ce02d88f0b9c"
      },
      "execution_count": 19,
      "outputs": [
        {
          "output_type": "stream",
          "name": "stdout",
          "text": [
            "350345\n",
            "17519\n"
          ]
        }
      ]
    },
    {
      "cell_type": "code",
      "source": [
        "import os\n",
        "import numpy as np\n",
        "import pickle\n",
        "from scipy.sparse import hstack\n",
        "from sklearn.decomposition import TruncatedSVD\n",
        "from sklearn.preprocessing import MaxAbsScaler\n",
        "DIRECTORY = '/content/drive/MyDrive/SMM4H 2024/something/'  # Modify this path to where your files are stored\n",
        "def load_npz(file_path):\n",
        "    loader = np.load(file_path, allow_pickle=True)\n",
        "    return loader[loader.files[0]]\n",
        "def get_stylometry_features(have_svd=True):\n",
        "    train_pos_tf = load_npz(os.path.join(DIRECTORY, \"pos_tf.npz\"))\n",
        "    train_shape_tf = load_npz(os.path.join(DIRECTORY, \"shape_tf.npz\"))\n",
        "    style_train = hstack([train_pos_tf, train_shape_tf])\n",
        "    dev_pos_tf = load_npz(os.path.join(DIRECTORY, \"pos_tf_dev.npz\"))\n",
        "    dev_shape_tf = load_npz(os.path.join(DIRECTORY, \"shape_tf_dev.npz\"))\n",
        "    style_test = hstack([dev_pos_tf, dev_shape_tf])\n",
        "    transformer = MaxAbsScaler().fit(style_train)\n",
        "    style_train = transformer.transform(style_train)\n",
        "    style_test = transformer.transform(style_test)\n",
        "    if not have_svd:\n",
        "        svd = TruncatedSVD(n_components=768)\n",
        "        svd.fit(style_train)\n",
        "        with open(os.path.join(DIRECTORY, \"svd_768.pkl\"), \"wb\") as file:\n",
        "            pickle.dump(svd, file)\n",
        "    with open(os.path.join(DIRECTORY, \"svd_768.pkl\"), \"rb\") as file:\n",
        "        svd = pickle.load(file)\n",
        "    style_train = svd.transform(style_train)\n",
        "    style_test = svd.transform(style_test)\n",
        "    return style_train, style_test\n",
        "style_train, style_test = get_stylometry_features()"
      ],
      "metadata": {
        "colab": {
          "base_uri": "https://localhost:8080/",
          "height": 335
        },
        "id": "ZVUUU3qn4r3p",
        "outputId": "336614fd-2ea2-4f19-cd7b-56a84c9a85a5"
      },
      "execution_count": 24,
      "outputs": [
        {
          "output_type": "error",
          "ename": "TypeError",
          "evalue": "MinMaxScaler does not support sparse input. Consider using MaxAbsScaler instead.",
          "traceback": [
            "\u001b[0;31m---------------------------------------------------------------------------\u001b[0m",
            "\u001b[0;31mTypeError\u001b[0m                                 Traceback (most recent call last)",
            "\u001b[0;32m<ipython-input-24-97fdd0e0b81f>\u001b[0m in \u001b[0;36m<cell line: 31>\u001b[0;34m()\u001b[0m\n\u001b[1;32m     29\u001b[0m     \u001b[0mstyle_test\u001b[0m \u001b[0;34m=\u001b[0m \u001b[0msvd\u001b[0m\u001b[0;34m.\u001b[0m\u001b[0mtransform\u001b[0m\u001b[0;34m(\u001b[0m\u001b[0mstyle_test\u001b[0m\u001b[0;34m)\u001b[0m\u001b[0;34m\u001b[0m\u001b[0;34m\u001b[0m\u001b[0m\n\u001b[1;32m     30\u001b[0m     \u001b[0;32mreturn\u001b[0m \u001b[0mstyle_train\u001b[0m\u001b[0;34m,\u001b[0m \u001b[0mstyle_test\u001b[0m\u001b[0;34m\u001b[0m\u001b[0;34m\u001b[0m\u001b[0m\n\u001b[0;32m---> 31\u001b[0;31m \u001b[0mstyle_train\u001b[0m\u001b[0;34m,\u001b[0m \u001b[0mstyle_test\u001b[0m \u001b[0;34m=\u001b[0m \u001b[0mget_stylometry_features\u001b[0m\u001b[0;34m(\u001b[0m\u001b[0;34m)\u001b[0m\u001b[0;34m\u001b[0m\u001b[0;34m\u001b[0m\u001b[0m\n\u001b[0m",
            "\u001b[0;32m<ipython-input-24-97fdd0e0b81f>\u001b[0m in \u001b[0;36mget_stylometry_features\u001b[0;34m(have_svd)\u001b[0m\n\u001b[1;32m     16\u001b[0m     \u001b[0mdev_shape_tf\u001b[0m \u001b[0;34m=\u001b[0m \u001b[0mload_npz\u001b[0m\u001b[0;34m(\u001b[0m\u001b[0mos\u001b[0m\u001b[0;34m.\u001b[0m\u001b[0mpath\u001b[0m\u001b[0;34m.\u001b[0m\u001b[0mjoin\u001b[0m\u001b[0;34m(\u001b[0m\u001b[0mDIRECTORY\u001b[0m\u001b[0;34m,\u001b[0m \u001b[0;34m\"shape_tf_dev.npz\"\u001b[0m\u001b[0;34m)\u001b[0m\u001b[0;34m)\u001b[0m\u001b[0;34m\u001b[0m\u001b[0;34m\u001b[0m\u001b[0m\n\u001b[1;32m     17\u001b[0m     \u001b[0mstyle_test\u001b[0m \u001b[0;34m=\u001b[0m \u001b[0mhstack\u001b[0m\u001b[0;34m(\u001b[0m\u001b[0;34m[\u001b[0m\u001b[0mdev_pos_tf\u001b[0m\u001b[0;34m,\u001b[0m \u001b[0mdev_shape_tf\u001b[0m\u001b[0;34m]\u001b[0m\u001b[0;34m)\u001b[0m\u001b[0;34m\u001b[0m\u001b[0;34m\u001b[0m\u001b[0m\n\u001b[0;32m---> 18\u001b[0;31m     \u001b[0mtransformer\u001b[0m \u001b[0;34m=\u001b[0m \u001b[0mMinMaxScaler\u001b[0m\u001b[0;34m(\u001b[0m\u001b[0;34m)\u001b[0m\u001b[0;34m.\u001b[0m\u001b[0mfit\u001b[0m\u001b[0;34m(\u001b[0m\u001b[0mstyle_train\u001b[0m\u001b[0;34m)\u001b[0m\u001b[0;34m\u001b[0m\u001b[0;34m\u001b[0m\u001b[0m\n\u001b[0m\u001b[1;32m     19\u001b[0m     \u001b[0mstyle_train\u001b[0m \u001b[0;34m=\u001b[0m \u001b[0mtransformer\u001b[0m\u001b[0;34m.\u001b[0m\u001b[0mtransform\u001b[0m\u001b[0;34m(\u001b[0m\u001b[0mstyle_train\u001b[0m\u001b[0;34m)\u001b[0m\u001b[0;34m\u001b[0m\u001b[0;34m\u001b[0m\u001b[0m\n\u001b[1;32m     20\u001b[0m     \u001b[0mstyle_test\u001b[0m \u001b[0;34m=\u001b[0m \u001b[0mtransformer\u001b[0m\u001b[0;34m.\u001b[0m\u001b[0mtransform\u001b[0m\u001b[0;34m(\u001b[0m\u001b[0mstyle_test\u001b[0m\u001b[0;34m)\u001b[0m\u001b[0;34m\u001b[0m\u001b[0;34m\u001b[0m\u001b[0m\n",
            "\u001b[0;32m/usr/local/lib/python3.10/dist-packages/sklearn/preprocessing/_data.py\u001b[0m in \u001b[0;36mfit\u001b[0;34m(self, X, y)\u001b[0m\n\u001b[1;32m    425\u001b[0m         \u001b[0;31m# Reset internal state before fitting\u001b[0m\u001b[0;34m\u001b[0m\u001b[0;34m\u001b[0m\u001b[0m\n\u001b[1;32m    426\u001b[0m         \u001b[0mself\u001b[0m\u001b[0;34m.\u001b[0m\u001b[0m_reset\u001b[0m\u001b[0;34m(\u001b[0m\u001b[0;34m)\u001b[0m\u001b[0;34m\u001b[0m\u001b[0;34m\u001b[0m\u001b[0m\n\u001b[0;32m--> 427\u001b[0;31m         \u001b[0;32mreturn\u001b[0m \u001b[0mself\u001b[0m\u001b[0;34m.\u001b[0m\u001b[0mpartial_fit\u001b[0m\u001b[0;34m(\u001b[0m\u001b[0mX\u001b[0m\u001b[0;34m,\u001b[0m \u001b[0my\u001b[0m\u001b[0;34m)\u001b[0m\u001b[0;34m\u001b[0m\u001b[0;34m\u001b[0m\u001b[0m\n\u001b[0m\u001b[1;32m    428\u001b[0m \u001b[0;34m\u001b[0m\u001b[0m\n\u001b[1;32m    429\u001b[0m     \u001b[0;32mdef\u001b[0m \u001b[0mpartial_fit\u001b[0m\u001b[0;34m(\u001b[0m\u001b[0mself\u001b[0m\u001b[0;34m,\u001b[0m \u001b[0mX\u001b[0m\u001b[0;34m,\u001b[0m \u001b[0my\u001b[0m\u001b[0;34m=\u001b[0m\u001b[0;32mNone\u001b[0m\u001b[0;34m)\u001b[0m\u001b[0;34m:\u001b[0m\u001b[0;34m\u001b[0m\u001b[0;34m\u001b[0m\u001b[0m\n",
            "\u001b[0;32m/usr/local/lib/python3.10/dist-packages/sklearn/preprocessing/_data.py\u001b[0m in \u001b[0;36mpartial_fit\u001b[0;34m(self, X, y)\u001b[0m\n\u001b[1;32m    458\u001b[0m \u001b[0;34m\u001b[0m\u001b[0m\n\u001b[1;32m    459\u001b[0m         \u001b[0;32mif\u001b[0m \u001b[0msparse\u001b[0m\u001b[0;34m.\u001b[0m\u001b[0missparse\u001b[0m\u001b[0;34m(\u001b[0m\u001b[0mX\u001b[0m\u001b[0;34m)\u001b[0m\u001b[0;34m:\u001b[0m\u001b[0;34m\u001b[0m\u001b[0;34m\u001b[0m\u001b[0m\n\u001b[0;32m--> 460\u001b[0;31m             raise TypeError(\n\u001b[0m\u001b[1;32m    461\u001b[0m                 \u001b[0;34m\"MinMaxScaler does not support sparse input. \"\u001b[0m\u001b[0;34m\u001b[0m\u001b[0;34m\u001b[0m\u001b[0m\n\u001b[1;32m    462\u001b[0m                 \u001b[0;34m\"Consider using MaxAbsScaler instead.\"\u001b[0m\u001b[0;34m\u001b[0m\u001b[0;34m\u001b[0m\u001b[0m\n",
            "\u001b[0;31mTypeError\u001b[0m: MinMaxScaler does not support sparse input. Consider using MaxAbsScaler instead."
          ]
        }
      ]
    },
    {
      "cell_type": "code",
      "source": [
        "def get_stylometry_features(have_svd=True):\n",
        "    train_pos_tf = load_npz(os.path.join(DIRECTORY, \"pos_tf.npz\"))\n",
        "    train_shape_tf = load_npz(os.path.join(DIRECTORY, \"shape_tf.npz\"))\n",
        "    style_train = hstack([train_pos_tf, train_shape_tf])\n",
        "    print(\"Training data shape after stacking:\", style_train.shape)\n",
        "\n",
        "    dev_pos_tf = load_npz(os.path.join(DIRECTORY, \"pos_tf_dev.npz\"))\n",
        "    dev_shape_tf = load_npz(os.path.join(DIRECTORY, \"shape_tf_dev.npz\"))\n",
        "    style_test = hstack([dev_pos_tf, dev_shape_tf])\n",
        "    print(\"Test data shape after stacking:\", style_test.shape)\n",
        "\n",
        "    transformer = MaxAbsScaler().fit(style_train)\n",
        "    style_train = transformer.transform(style_train)\n",
        "    style_test = transformer.transform(style_test)\n",
        "\n",
        "    if not have_svd:\n",
        "        svd = TruncatedSVD(n_components=768)\n",
        "        svd.fit(style_train)\n",
        "        with open(os.path.join(DIRECTORY, \"svd_768.pkl\"), \"wb\") as file:\n",
        "            pickle.dump(svd, file)\n",
        "\n",
        "    with open(os.path.join(DIRECTORY, \"svd_768.pkl\"), \"rb\") as file:\n",
        "        svd = pickle.load(file)\n",
        "\n",
        "    style_train = svd.transform(style_train)\n",
        "    style_test = svd.transform(style_test)\n",
        "\n",
        "    return style_train, style_test\n",
        "style_train, style_test = get_stylometry_features()"
      ],
      "metadata": {
        "colab": {
          "base_uri": "https://localhost:8080/",
          "height": 371
        },
        "id": "suD3bMNa5dVU",
        "outputId": "9bd179b1-e20d-44b2-e29d-fc32d7af1853"
      },
      "execution_count": 26,
      "outputs": [
        {
          "output_type": "stream",
          "name": "stdout",
          "text": [
            "Training data shape after stacking: (1, 724310)\n",
            "Test data shape after stacking: (1, 36558)\n"
          ]
        },
        {
          "output_type": "error",
          "ename": "ValueError",
          "evalue": "X has 36558 features, but MaxAbsScaler is expecting 724310 features as input.",
          "traceback": [
            "\u001b[0;31m---------------------------------------------------------------------------\u001b[0m",
            "\u001b[0;31mValueError\u001b[0m                                Traceback (most recent call last)",
            "\u001b[0;32m<ipython-input-26-4c93695c4701>\u001b[0m in \u001b[0;36m<cell line: 29>\u001b[0;34m()\u001b[0m\n\u001b[1;32m     27\u001b[0m \u001b[0;34m\u001b[0m\u001b[0m\n\u001b[1;32m     28\u001b[0m     \u001b[0;32mreturn\u001b[0m \u001b[0mstyle_train\u001b[0m\u001b[0;34m,\u001b[0m \u001b[0mstyle_test\u001b[0m\u001b[0;34m\u001b[0m\u001b[0;34m\u001b[0m\u001b[0m\n\u001b[0;32m---> 29\u001b[0;31m \u001b[0mstyle_train\u001b[0m\u001b[0;34m,\u001b[0m \u001b[0mstyle_test\u001b[0m \u001b[0;34m=\u001b[0m \u001b[0mget_stylometry_features\u001b[0m\u001b[0;34m(\u001b[0m\u001b[0;34m)\u001b[0m\u001b[0;34m\u001b[0m\u001b[0;34m\u001b[0m\u001b[0m\n\u001b[0m",
            "\u001b[0;32m<ipython-input-26-4c93695c4701>\u001b[0m in \u001b[0;36mget_stylometry_features\u001b[0;34m(have_svd)\u001b[0m\n\u001b[1;32m     12\u001b[0m     \u001b[0mtransformer\u001b[0m \u001b[0;34m=\u001b[0m \u001b[0mMaxAbsScaler\u001b[0m\u001b[0;34m(\u001b[0m\u001b[0;34m)\u001b[0m\u001b[0;34m.\u001b[0m\u001b[0mfit\u001b[0m\u001b[0;34m(\u001b[0m\u001b[0mstyle_train\u001b[0m\u001b[0;34m)\u001b[0m\u001b[0;34m\u001b[0m\u001b[0;34m\u001b[0m\u001b[0m\n\u001b[1;32m     13\u001b[0m     \u001b[0mstyle_train\u001b[0m \u001b[0;34m=\u001b[0m \u001b[0mtransformer\u001b[0m\u001b[0;34m.\u001b[0m\u001b[0mtransform\u001b[0m\u001b[0;34m(\u001b[0m\u001b[0mstyle_train\u001b[0m\u001b[0;34m)\u001b[0m\u001b[0;34m\u001b[0m\u001b[0;34m\u001b[0m\u001b[0m\n\u001b[0;32m---> 14\u001b[0;31m     \u001b[0mstyle_test\u001b[0m \u001b[0;34m=\u001b[0m \u001b[0mtransformer\u001b[0m\u001b[0;34m.\u001b[0m\u001b[0mtransform\u001b[0m\u001b[0;34m(\u001b[0m\u001b[0mstyle_test\u001b[0m\u001b[0;34m)\u001b[0m\u001b[0;34m\u001b[0m\u001b[0;34m\u001b[0m\u001b[0m\n\u001b[0m\u001b[1;32m     15\u001b[0m \u001b[0;34m\u001b[0m\u001b[0m\n\u001b[1;32m     16\u001b[0m     \u001b[0;32mif\u001b[0m \u001b[0;32mnot\u001b[0m \u001b[0mhave_svd\u001b[0m\u001b[0;34m:\u001b[0m\u001b[0;34m\u001b[0m\u001b[0;34m\u001b[0m\u001b[0m\n",
            "\u001b[0;32m/usr/local/lib/python3.10/dist-packages/sklearn/utils/_set_output.py\u001b[0m in \u001b[0;36mwrapped\u001b[0;34m(self, X, *args, **kwargs)\u001b[0m\n\u001b[1;32m    138\u001b[0m     \u001b[0;34m@\u001b[0m\u001b[0mwraps\u001b[0m\u001b[0;34m(\u001b[0m\u001b[0mf\u001b[0m\u001b[0;34m)\u001b[0m\u001b[0;34m\u001b[0m\u001b[0;34m\u001b[0m\u001b[0m\n\u001b[1;32m    139\u001b[0m     \u001b[0;32mdef\u001b[0m \u001b[0mwrapped\u001b[0m\u001b[0;34m(\u001b[0m\u001b[0mself\u001b[0m\u001b[0;34m,\u001b[0m \u001b[0mX\u001b[0m\u001b[0;34m,\u001b[0m \u001b[0;34m*\u001b[0m\u001b[0margs\u001b[0m\u001b[0;34m,\u001b[0m \u001b[0;34m**\u001b[0m\u001b[0mkwargs\u001b[0m\u001b[0;34m)\u001b[0m\u001b[0;34m:\u001b[0m\u001b[0;34m\u001b[0m\u001b[0;34m\u001b[0m\u001b[0m\n\u001b[0;32m--> 140\u001b[0;31m         \u001b[0mdata_to_wrap\u001b[0m \u001b[0;34m=\u001b[0m \u001b[0mf\u001b[0m\u001b[0;34m(\u001b[0m\u001b[0mself\u001b[0m\u001b[0;34m,\u001b[0m \u001b[0mX\u001b[0m\u001b[0;34m,\u001b[0m \u001b[0;34m*\u001b[0m\u001b[0margs\u001b[0m\u001b[0;34m,\u001b[0m \u001b[0;34m**\u001b[0m\u001b[0mkwargs\u001b[0m\u001b[0;34m)\u001b[0m\u001b[0;34m\u001b[0m\u001b[0;34m\u001b[0m\u001b[0m\n\u001b[0m\u001b[1;32m    141\u001b[0m         \u001b[0;32mif\u001b[0m \u001b[0misinstance\u001b[0m\u001b[0;34m(\u001b[0m\u001b[0mdata_to_wrap\u001b[0m\u001b[0;34m,\u001b[0m \u001b[0mtuple\u001b[0m\u001b[0;34m)\u001b[0m\u001b[0;34m:\u001b[0m\u001b[0;34m\u001b[0m\u001b[0;34m\u001b[0m\u001b[0m\n\u001b[1;32m    142\u001b[0m             \u001b[0;31m# only wrap the first output for cross decomposition\u001b[0m\u001b[0;34m\u001b[0m\u001b[0;34m\u001b[0m\u001b[0m\n",
            "\u001b[0;32m/usr/local/lib/python3.10/dist-packages/sklearn/preprocessing/_data.py\u001b[0m in \u001b[0;36mtransform\u001b[0;34m(self, X)\u001b[0m\n\u001b[1;32m   1231\u001b[0m         \"\"\"\n\u001b[1;32m   1232\u001b[0m         \u001b[0mcheck_is_fitted\u001b[0m\u001b[0;34m(\u001b[0m\u001b[0mself\u001b[0m\u001b[0;34m)\u001b[0m\u001b[0;34m\u001b[0m\u001b[0;34m\u001b[0m\u001b[0m\n\u001b[0;32m-> 1233\u001b[0;31m         X = self._validate_data(\n\u001b[0m\u001b[1;32m   1234\u001b[0m             \u001b[0mX\u001b[0m\u001b[0;34m,\u001b[0m\u001b[0;34m\u001b[0m\u001b[0;34m\u001b[0m\u001b[0m\n\u001b[1;32m   1235\u001b[0m             \u001b[0maccept_sparse\u001b[0m\u001b[0;34m=\u001b[0m\u001b[0;34m(\u001b[0m\u001b[0;34m\"csr\"\u001b[0m\u001b[0;34m,\u001b[0m \u001b[0;34m\"csc\"\u001b[0m\u001b[0;34m)\u001b[0m\u001b[0;34m,\u001b[0m\u001b[0;34m\u001b[0m\u001b[0;34m\u001b[0m\u001b[0m\n",
            "\u001b[0;32m/usr/local/lib/python3.10/dist-packages/sklearn/base.py\u001b[0m in \u001b[0;36m_validate_data\u001b[0;34m(self, X, y, reset, validate_separately, **check_params)\u001b[0m\n\u001b[1;32m    586\u001b[0m \u001b[0;34m\u001b[0m\u001b[0m\n\u001b[1;32m    587\u001b[0m         \u001b[0;32mif\u001b[0m \u001b[0;32mnot\u001b[0m \u001b[0mno_val_X\u001b[0m \u001b[0;32mand\u001b[0m \u001b[0mcheck_params\u001b[0m\u001b[0;34m.\u001b[0m\u001b[0mget\u001b[0m\u001b[0;34m(\u001b[0m\u001b[0;34m\"ensure_2d\"\u001b[0m\u001b[0;34m,\u001b[0m \u001b[0;32mTrue\u001b[0m\u001b[0;34m)\u001b[0m\u001b[0;34m:\u001b[0m\u001b[0;34m\u001b[0m\u001b[0;34m\u001b[0m\u001b[0m\n\u001b[0;32m--> 588\u001b[0;31m             \u001b[0mself\u001b[0m\u001b[0;34m.\u001b[0m\u001b[0m_check_n_features\u001b[0m\u001b[0;34m(\u001b[0m\u001b[0mX\u001b[0m\u001b[0;34m,\u001b[0m \u001b[0mreset\u001b[0m\u001b[0;34m=\u001b[0m\u001b[0mreset\u001b[0m\u001b[0;34m)\u001b[0m\u001b[0;34m\u001b[0m\u001b[0;34m\u001b[0m\u001b[0m\n\u001b[0m\u001b[1;32m    589\u001b[0m \u001b[0;34m\u001b[0m\u001b[0m\n\u001b[1;32m    590\u001b[0m         \u001b[0;32mreturn\u001b[0m \u001b[0mout\u001b[0m\u001b[0;34m\u001b[0m\u001b[0;34m\u001b[0m\u001b[0m\n",
            "\u001b[0;32m/usr/local/lib/python3.10/dist-packages/sklearn/base.py\u001b[0m in \u001b[0;36m_check_n_features\u001b[0;34m(self, X, reset)\u001b[0m\n\u001b[1;32m    387\u001b[0m \u001b[0;34m\u001b[0m\u001b[0m\n\u001b[1;32m    388\u001b[0m         \u001b[0;32mif\u001b[0m \u001b[0mn_features\u001b[0m \u001b[0;34m!=\u001b[0m \u001b[0mself\u001b[0m\u001b[0;34m.\u001b[0m\u001b[0mn_features_in_\u001b[0m\u001b[0;34m:\u001b[0m\u001b[0;34m\u001b[0m\u001b[0;34m\u001b[0m\u001b[0m\n\u001b[0;32m--> 389\u001b[0;31m             raise ValueError(\n\u001b[0m\u001b[1;32m    390\u001b[0m                 \u001b[0;34mf\"X has {n_features} features, but {self.__class__.__name__} \"\u001b[0m\u001b[0;34m\u001b[0m\u001b[0;34m\u001b[0m\u001b[0m\n\u001b[1;32m    391\u001b[0m                 \u001b[0;34mf\"is expecting {self.n_features_in_} features as input.\"\u001b[0m\u001b[0;34m\u001b[0m\u001b[0;34m\u001b[0m\u001b[0m\n",
            "\u001b[0;31mValueError\u001b[0m: X has 36558 features, but MaxAbsScaler is expecting 724310 features as input."
          ]
        }
      ]
    },
    {
      "cell_type": "code",
      "source": [
        "def load_npz(file_path):\n",
        "    \"\"\"Loads a sparse matrix stored in an NPZ file and prints available arrays.\"\"\"\n",
        "    data = np.load(file_path, allow_pickle=True)\n",
        "    print(f\"Loaded {file_path}, containing arrays: {data.files}\")\n",
        "    return data[data.files[0]]\n",
        "\n",
        "# Update the directory as necessary\n",
        "DIRECTORY = '/content/drive/MyDrive/SMM4H 2024/something/'  # Modify this path to where your files are stored\n",
        "\n",
        "# Testing the loading function to see outputs\n",
        "train_pos_tf = load_npz(os.path.join(DIRECTORY, \"pos_tf.npz\"))\n",
        "train_shape_tf = load_npz(os.path.join(DIRECTORY, \"shape_tf.npz\"))\n",
        "dev_pos_tf = load_npz(os.path.join(DIRECTORY, \"pos_tf_dev.npz\"))\n",
        "dev_shape_tf = load_npz(os.path.join(DIRECTORY, \"shape_tf_dev.npz\"))\n",
        "\n",
        "# Checking dimensions to understand the issue better\n",
        "print(\"Train POS TF shape:\", train_pos_tf.shape)\n",
        "print(\"Train Shape TF shape:\", train_shape_tf.shape)\n",
        "print(\"Dev POS TF shape:\", dev_pos_tf.shape)\n",
        "print(\"Dev Shape TF shape:\", dev_shape_tf.shape)\n"
      ],
      "metadata": {
        "colab": {
          "base_uri": "https://localhost:8080/"
        },
        "id": "XP1-ypSt6Wf-",
        "outputId": "d2eb9bc4-fecc-4bfe-a226-6ef240f5b241"
      },
      "execution_count": 28,
      "outputs": [
        {
          "output_type": "stream",
          "name": "stdout",
          "text": [
            "Loaded /content/drive/MyDrive/SMM4H 2024/something/pos_tf.npz, containing arrays: ['indices', 'indptr', 'format', 'shape', 'data']\n",
            "Loaded /content/drive/MyDrive/SMM4H 2024/something/shape_tf.npz, containing arrays: ['indices', 'indptr', 'format', 'shape', 'data']\n",
            "Loaded /content/drive/MyDrive/SMM4H 2024/something/pos_tf_dev.npz, containing arrays: ['indices', 'indptr', 'format', 'shape', 'data']\n",
            "Loaded /content/drive/MyDrive/SMM4H 2024/something/shape_tf_dev.npz, containing arrays: ['indices', 'indptr', 'format', 'shape', 'data']\n",
            "Train POS TF shape: (373965,)\n",
            "Train Shape TF shape: (350345,)\n",
            "Dev POS TF shape: (19039,)\n",
            "Dev Shape TF shape: (17519,)\n"
          ]
        }
      ]
    },
    {
      "cell_type": "code",
      "source": [
        "from scipy.sparse import csr_matrix\n",
        "\n",
        "def load_sparse_matrix(file_path):\n",
        "    \"\"\"Loads and reconstructs a sparse matrix from an NPZ file.\"\"\"\n",
        "    loader = np.load(file_path, allow_pickle=True)\n",
        "    return csr_matrix((loader['data'], loader['indices'], loader['indptr']), shape=loader['shape'])\n",
        "\n",
        "# Load your training and development datasets\n",
        "train_pos_tf = load_sparse_matrix(os.path.join(DIRECTORY, \"pos_tf.npz\"))\n",
        "train_shape_tf = load_sparse_matrix(os.path.join(DIRECTORY, \"shape_tf.npz\"))\n",
        "dev_pos_tf = load_sparse_matrix(os.path.join(DIRECTORY, \"pos_tf_dev.npz\"))\n",
        "dev_shape_tf = load_sparse_matrix(os.path.join(DIRECTORY, \"shape_tf_dev.npz\"))\n",
        "\n",
        "# Stack the features horizontally\n",
        "from scipy.sparse import hstack\n",
        "style_train = hstack([train_pos_tf, train_shape_tf])\n",
        "style_dev = hstack([dev_pos_tf, dev_shape_tf])\n",
        "\n",
        "print(\"Training combined shape:\", style_train.shape)\n",
        "print(\"Development combined shape:\", style_dev.shape)\n"
      ],
      "metadata": {
        "colab": {
          "base_uri": "https://localhost:8080/"
        },
        "id": "OBwwDQqp6nXQ",
        "outputId": "a7207d2e-3e27-477a-d51d-f6bfad7bdbae"
      },
      "execution_count": 29,
      "outputs": [
        {
          "output_type": "stream",
          "name": "stdout",
          "text": [
            "Training combined shape: (7398, 41393)\n",
            "Development combined shape: (389, 41393)\n"
          ]
        }
      ]
    },
    {
      "cell_type": "code",
      "source": [
        "# Scale features using MaxAbsScaler\n",
        "from sklearn.preprocessing import MaxAbsScaler\n",
        "transformer = MaxAbsScaler().fit(style_train)\n",
        "style_train_scaled = transformer.transform(style_train)\n",
        "style_dev_scaled = transformer.transform(style_dev)\n",
        "\n",
        "# Optional SVD Transformation\n",
        "from sklearn.decomposition import TruncatedSVD\n",
        "svd = TruncatedSVD(n_components=768)\n",
        "svd.fit(style_train_scaled)  # Fit SVD on the training data\n",
        "\n",
        "# Transform both training and development data\n",
        "style_train_final = svd.transform(style_train_scaled)\n",
        "style_dev_final = svd.transform(style_dev_scaled)\n",
        "\n",
        "print(\"Final training data shape:\", style_train_final.shape)\n",
        "print(\"Final development data shape:\", style_dev_final.shape)\n"
      ],
      "metadata": {
        "colab": {
          "base_uri": "https://localhost:8080/"
        },
        "id": "bHZzPEyo68Py",
        "outputId": "bb02d50e-0b31-4cbe-fd8a-ded4c2d7bd39"
      },
      "execution_count": 30,
      "outputs": [
        {
          "output_type": "stream",
          "name": "stdout",
          "text": [
            "Final training data shape: (7398, 768)\n",
            "Final development data shape: (389, 768)\n"
          ]
        }
      ]
    },
    {
      "cell_type": "code",
      "source": [
        "train_labels = df_train['label']\n",
        "dev_labels = df_dev['label']"
      ],
      "metadata": {
        "id": "WVaH8b7g8jC2"
      },
      "execution_count": 33,
      "outputs": []
    },
    {
      "cell_type": "code",
      "source": [
        "from sklearn.linear_model import LogisticRegression\n",
        "from sklearn.metrics import classification_report, confusion_matrix, ConfusionMatrixDisplay\n",
        "from sklearn.metrics import f1_score, precision_score, recall_score\n",
        "import matplotlib.pyplot as plt\n",
        "model = LogisticRegression(max_iter=1000000)\n",
        "model.fit(style_train_final, train_labels)\n",
        "dev_predictions = model.predict(style_dev_final)\n",
        "cm = confusion_matrix(dev_labels, dev_predictions)\n",
        "disp = ConfusionMatrixDisplay(confusion_matrix=cm)\n",
        "disp.plot(cmap='Reds')\n",
        "plt.show()\n",
        "print(\"Macro Precision: {:.4f}\".format(precision_score(dev_labels, dev_predictions, average='macro')))\n",
        "print(\"Macro Recall: {:.4f}\".format(recall_score(dev_labels, dev_predictions, average='macro')))\n",
        "print(\"Macro F1 Score: {:.4f}\".format(f1_score(dev_labels, dev_predictions, average='macro')))\n",
        "df_dev['predictions'] = dev_predictions\n",
        "df_dev.to_csv(\"NN_LR_task5_Predictions.csv\", index=False)"
      ],
      "metadata": {
        "colab": {
          "base_uri": "https://localhost:8080/",
          "height": 504
        },
        "id": "LcuV8zoD6_b5",
        "outputId": "35a1485c-5007-48d7-91ed-12a3644da838"
      },
      "execution_count": 49,
      "outputs": [
        {
          "output_type": "display_data",
          "data": {
            "text/plain": [
              "<Figure size 640x480 with 2 Axes>"
            ],
            "image/png": "[encoded data removed]"
          },
          "metadata": {}
        },
        {
          "output_type": "stream",
          "name": "stdout",
          "text": [
            "Macro Precision: 0.7371\n",
            "Macro Recall: 0.6787\n",
            "Macro F1 Score: 0.6895\n"
          ]
        }
      ]
    },
    {
      "cell_type": "code",
      "source": [
        "from sklearn.svm import SVC\n",
        "from sklearn.metrics import classification_report, confusion_matrix, ConfusionMatrixDisplay\n",
        "from sklearn.metrics import f1_score, precision_score, recall_score\n",
        "import matplotlib.pyplot as plt\n",
        "model = SVC(kernel='linear')\n",
        "model.fit(style_train_final, train_labels)\n",
        "dev_predictions = model.predict(style_dev_final)\n",
        "cm = confusion_matrix(dev_labels, dev_predictions)\n",
        "disp = ConfusionMatrixDisplay(confusion_matrix=cm)\n",
        "disp.plot(cmap='Reds')\n",
        "plt.show()\n",
        "print(\"Macro Precision: {:.4f}\".format(precision_score(dev_labels, dev_predictions, average='macro')))\n",
        "print(\"Macro Recall: {:.4f}\".format(recall_score(dev_labels, dev_predictions, average='macro')))\n",
        "print(\"Macro F1 Score: {:.4f}\".format(f1_score(dev_labels, dev_predictions, average='macro')))\n",
        "df_dev['predictions'] = dev_predictions\n",
        "df_dev.to_csv(\"NN_SVM_Linear_task5_Predictions.csv\", index=False)"
      ],
      "metadata": {
        "colab": {
          "base_uri": "https://localhost:8080/",
          "height": 510
        },
        "id": "rayCgmlU92_k",
        "outputId": "e22b6b07-e228-4d9d-a09a-04c4a265530b"
      },
      "execution_count": 50,
      "outputs": [
        {
          "output_type": "display_data",
          "data": {
            "text/plain": [
              "<Figure size 640x480 with 2 Axes>"
            ],
            "image/png": "[encoded data removed]"
          },
          "metadata": {}
        },
        {
          "output_type": "stream",
          "name": "stdout",
          "text": [
            "Macro Precision: 0.7151\n",
            "Macro Recall: 0.6688\n",
            "Macro F1 Score: 0.6780\n"
          ]
        }
      ]
    },
    {
      "cell_type": "code",
      "source": [
        "from sklearn.svm import SVC\n",
        "from sklearn.metrics import classification_report, confusion_matrix, ConfusionMatrixDisplay\n",
        "from sklearn.metrics import f1_score, precision_score, recall_score\n",
        "import matplotlib.pyplot as plt\n",
        "model = SVC(kernel='poly')\n",
        "model.fit(style_train_final, train_labels)\n",
        "dev_predictions = model.predict(style_dev_final)\n",
        "cm = confusion_matrix(dev_labels, dev_predictions)\n",
        "disp = ConfusionMatrixDisplay(confusion_matrix=cm)\n",
        "disp.plot(cmap='Reds')\n",
        "plt.show()\n",
        "print(\"Macro Precision: {:.4f}\".format(precision_score(dev_labels, dev_predictions, average='macro')))\n",
        "print(\"Macro Recall: {:.4f}\".format(recall_score(dev_labels, dev_predictions, average='macro')))\n",
        "print(\"Macro F1 Score: {:.4f}\".format(f1_score(dev_labels, dev_predictions, average='macro')))\n",
        "df_dev['predictions'] = dev_predictions\n",
        "df_dev.to_csv(\"NN_SVM_Poly_task5_Predictions.csv\", index=False)"
      ],
      "metadata": {
        "colab": {
          "base_uri": "https://localhost:8080/",
          "height": 504
        },
        "id": "u4KAYxxz-t4S",
        "outputId": "c2b5c3e4-dfb5-4c04-b16a-8e9d96813248"
      },
      "execution_count": 51,
      "outputs": [
        {
          "output_type": "display_data",
          "data": {
            "text/plain": [
              "<Figure size 640x480 with 2 Axes>"
            ],
            "image/png": "[encoded data removed]"
          },
          "metadata": {}
        },
        {
          "output_type": "stream",
          "name": "stdout",
          "text": [
            "Macro Precision: 0.7740\n",
            "Macro Recall: 0.5939\n",
            "Macro F1 Score: 0.5749\n"
          ]
        }
      ]
    },
    {
      "cell_type": "code",
      "source": [
        "from sklearn.svm import SVC\n",
        "from sklearn.metrics import classification_report, confusion_matrix, ConfusionMatrixDisplay\n",
        "from sklearn.metrics import f1_score, precision_score, recall_score\n",
        "import matplotlib.pyplot as plt\n",
        "model = SVC(kernel='rbf')\n",
        "model.fit(style_train_final, train_labels)\n",
        "dev_predictions = model.predict(style_dev_final)\n",
        "cm = confusion_matrix(dev_labels, dev_predictions)\n",
        "disp = ConfusionMatrixDisplay(confusion_matrix=cm)\n",
        "disp.plot(cmap='Reds')\n",
        "plt.show()\n",
        "print(\"Macro Precision: {:.4f}\".format(precision_score(dev_labels, dev_predictions, average='macro')))\n",
        "print(\"Macro Recall: {:.4f}\".format(recall_score(dev_labels, dev_predictions, average='macro')))\n",
        "print(\"Macro F1 Score: {:.4f}\".format(f1_score(dev_labels, dev_predictions, average='macro')))\n",
        "df_dev['predictions'] = dev_predictions\n",
        "df_dev.to_csv(\"NN_SVM_RBF_task5_Predictions.csv\", index=False)"
      ],
      "metadata": {
        "colab": {
          "base_uri": "https://localhost:8080/",
          "height": 504
        },
        "id": "_Txv5wZq-24D",
        "outputId": "7b927692-6ae7-4891-e059-6a49a269e04e"
      },
      "execution_count": 52,
      "outputs": [
        {
          "output_type": "display_data",
          "data": {
            "text/plain": [
              "<Figure size 640x480 with 2 Axes>"
            ],
            "image/png": "[encoded data removed]"
          },
          "metadata": {}
        },
        {
          "output_type": "stream",
          "name": "stdout",
          "text": [
            "Macro Precision: 0.7578\n",
            "Macro Recall: 0.6339\n",
            "Macro F1 Score: 0.6353\n"
          ]
        }
      ]
    },
    {
      "cell_type": "code",
      "source": [
        "from sklearn.svm import SVC\n",
        "from sklearn.metrics import classification_report, confusion_matrix, ConfusionMatrixDisplay\n",
        "from sklearn.metrics import f1_score, precision_score, recall_score\n",
        "import matplotlib.pyplot as plt\n",
        "model = SVC(kernel='sigmoid')\n",
        "model.fit(style_train_final, train_labels)\n",
        "dev_predictions = model.predict(style_dev_final)\n",
        "cm = confusion_matrix(dev_labels, dev_predictions)\n",
        "disp = ConfusionMatrixDisplay(confusion_matrix=cm)\n",
        "disp.plot(cmap='Reds')\n",
        "plt.show()\n",
        "print(\"Macro Precision: {:.4f}\".format(precision_score(dev_labels, dev_predictions, average='macro')))\n",
        "print(\"Macro Recall: {:.4f}\".format(recall_score(dev_labels, dev_predictions, average='macro')))\n",
        "print(\"Macro F1 Score: {:.4f}\".format(f1_score(dev_labels, dev_predictions, average='macro')))\n",
        "df_dev['predictions'] = dev_predictions\n",
        "df_dev.to_csv(\"NN_SVM_Sigmoid_task5_Predictions.csv\", index=False)"
      ],
      "metadata": {
        "colab": {
          "base_uri": "https://localhost:8080/",
          "height": 504
        },
        "id": "x0IajhnS-6Vv",
        "outputId": "6b1b3713-f034-4aee-a801-d936ac173487"
      },
      "execution_count": 53,
      "outputs": [
        {
          "output_type": "display_data",
          "data": {
            "text/plain": [
              "<Figure size 640x480 with 2 Axes>"
            ],
            "image/png": "[encoded data removed]"
          },
          "metadata": {}
        },
        {
          "output_type": "stream",
          "name": "stdout",
          "text": [
            "Macro Precision: 0.7481\n",
            "Macro Recall: 0.6428\n",
            "Macro F1 Score: 0.6476\n"
          ]
        }
      ]
    },
    {
      "cell_type": "code",
      "source": [
        "from sklearn.tree import DecisionTreeClassifier\n",
        "from sklearn.metrics import classification_report, confusion_matrix, ConfusionMatrixDisplay\n",
        "from sklearn.metrics import f1_score, precision_score, recall_score\n",
        "import matplotlib.pyplot as plt\n",
        "model = DecisionTreeClassifier()\n",
        "model.fit(style_train_final, train_labels)\n",
        "dev_predictions = model.predict(style_dev_final)\n",
        "cm = confusion_matrix(dev_labels, dev_predictions)\n",
        "disp = ConfusionMatrixDisplay(confusion_matrix=cm)\n",
        "disp.plot(cmap='Reds')\n",
        "plt.show()\n",
        "print(\"Macro Precision: {:.4f}\".format(precision_score(dev_labels, dev_predictions, average='macro')))\n",
        "print(\"Macro Recall: {:.4f}\".format(recall_score(dev_labels, dev_predictions, average='macro')))\n",
        "print(\"Macro F1 Score: {:.4f}\".format(f1_score(dev_labels, dev_predictions, average='macro')))\n",
        "df_dev['predictions'] = dev_predictions\n",
        "df_dev.to_csv(\"NN_DecisionTree_task5_Predictions.csv\", index=False)"
      ],
      "metadata": {
        "colab": {
          "base_uri": "https://localhost:8080/",
          "height": 510
        },
        "id": "4xV1z7KLBUWj",
        "outputId": "b34de919-9b35-4a5f-ed2b-8e7dbe6dd560"
      },
      "execution_count": 54,
      "outputs": [
        {
          "output_type": "display_data",
          "data": {
            "text/plain": [
              "<Figure size 640x480 with 2 Axes>"
            ],
            "image/png": "[encoded data removed]"
          },
          "metadata": {}
        },
        {
          "output_type": "stream",
          "name": "stdout",
          "text": [
            "Macro Precision: 0.5913\n",
            "Macro Recall: 0.5789\n",
            "Macro F1 Score: 0.5803\n"
          ]
        }
      ]
    },
    {
      "cell_type": "code",
      "source": [
        "from sklearn.ensemble import RandomForestClassifier\n",
        "from sklearn.metrics import classification_report, confusion_matrix, ConfusionMatrixDisplay\n",
        "from sklearn.metrics import f1_score, precision_score, recall_score\n",
        "import matplotlib.pyplot as plt\n",
        "model = RandomForestClassifier(n_estimators=100, random_state=69)  # n_estimators is the number of trees\n",
        "model.fit(style_train_final, train_labels)\n",
        "dev_predictions = model.predict(style_dev_final)\n",
        "cm = confusion_matrix(dev_labels, dev_predictions)\n",
        "disp = ConfusionMatrixDisplay(confusion_matrix=cm)\n",
        "disp.plot(cmap='Reds')\n",
        "plt.show()\n",
        "print(\"Macro Precision: {:.4f}\".format(precision_score(dev_labels, dev_predictions, average='macro')))\n",
        "print(\"Macro Recall: {:.4f}\".format(recall_score(dev_labels, dev_predictions, average='macro')))\n",
        "print(\"Macro F1 Score: {:.4f}\".format(f1_score(dev_labels, dev_predictions, average='macro')))\n",
        "df_dev['predictions'] = dev_predictions\n",
        "df_dev.to_csv(\"NN_RandomForest_task5_Predictions.csv\", index=False)"
      ],
      "metadata": {
        "colab": {
          "base_uri": "https://localhost:8080/",
          "height": 560
        },
        "id": "7YiyA0AmCUpX",
        "outputId": "f0051838-9059-4a6b-f2c3-857326c3fb05"
      },
      "execution_count": 56,
      "outputs": [
        {
          "output_type": "display_data",
          "data": {
            "text/plain": [
              "<Figure size 640x480 with 2 Axes>"
            ],
            "image/png": "[encoded data removed]"
          },
          "metadata": {}
        },
        {
          "output_type": "stream",
          "name": "stdout",
          "text": [
            "Macro Precision: 0.3265\n",
            "Macro Recall: 0.5000\n",
            "Macro F1 Score: 0.3950\n"
          ]
        },
        {
          "output_type": "stream",
          "name": "stderr",
          "text": [
            "/usr/local/lib/python3.10/dist-packages/sklearn/metrics/_classification.py:1344: UndefinedMetricWarning: Precision is ill-defined and being set to 0.0 in labels with no predicted samples. Use `zero_division` parameter to control this behavior.\n",
            "  _warn_prf(average, modifier, msg_start, len(result))\n"
          ]
        }
      ]
    },
    {
      "cell_type": "code",
      "source": [
        "from sklearn.ensemble import GradientBoostingClassifier\n",
        "from sklearn.metrics import classification_report, confusion_matrix, ConfusionMatrixDisplay\n",
        "from sklearn.metrics import f1_score, precision_score, recall_score\n",
        "import matplotlib.pyplot as plt\n",
        "model = GradientBoostingClassifier(n_estimators=169, learning_rate=0.1, max_depth=5, random_state=69)\n",
        "model.fit(style_train_final, train_labels)\n",
        "dev_predictions = model.predict(style_dev_final)\n",
        "cm = confusion_matrix(dev_labels, dev_predictions)\n",
        "disp = ConfusionMatrixDisplay(confusion_matrix=cm)\n",
        "disp.plot(cmap='Reds')\n",
        "plt.show()\n",
        "print(\"Macro Precision: {:.4f}\".format(precision_score(dev_labels, dev_predictions, average='macro')))\n",
        "print(\"Macro Recall: {:.4f}\".format(recall_score(dev_labels, dev_predictions, average='macro')))\n",
        "print(\"Macro F1 Score: {:.4f}\".format(f1_score(dev_labels, dev_predictions, average='macro')))\n",
        "df_dev['predictions'] = dev_predictions\n",
        "df_dev.to_csv(\"NN_GBM_task5_Predictions.csv\", index=False)"
      ],
      "metadata": {
        "colab": {
          "base_uri": "https://localhost:8080/",
          "height": 504
        },
        "id": "UNQZCefzC7lU",
        "outputId": "8255e750-f6d4-4dc9-f77a-d28a1fa0bb38"
      },
      "execution_count": 57,
      "outputs": [
        {
          "output_type": "display_data",
          "data": {
            "text/plain": [
              "<Figure size 640x480 with 2 Axes>"
            ],
            "image/png": "[encoded data removed]"
          },
          "metadata": {}
        },
        {
          "output_type": "stream",
          "name": "stdout",
          "text": [
            "Macro Precision: 0.7077\n",
            "Macro Recall: 0.5712\n",
            "Macro F1 Score: 0.5445\n"
          ]
        }
      ]
    },
    {
      "cell_type": "code",
      "source": [
        "from sklearn.neighbors import KNeighborsClassifier\n",
        "from sklearn.metrics import classification_report, confusion_matrix, ConfusionMatrixDisplay\n",
        "from sklearn.metrics import f1_score, precision_score, recall_score\n",
        "import matplotlib.pyplot as plt\n",
        "model = KNeighborsClassifier(n_neighbors=1)  # 'n_neighbors' defines how many neighbors to use\n",
        "model.fit(style_train_final, train_labels)\n",
        "dev_predictions = model.predict(style_dev_final)\n",
        "cm = confusion_matrix(dev_labels, dev_predictions)\n",
        "disp = ConfusionMatrixDisplay(confusion_matrix=cm)\n",
        "disp.plot(cmap='Reds')\n",
        "plt.show()\n",
        "print(\"Macro Precision: {:.4f}\".format(precision_score(dev_labels, dev_predictions, average='macro')))\n",
        "print(\"Macro Recall: {:.4f}\".format(recall_score(dev_labels, dev_predictions, average='macro')))\n",
        "print(\"Macro F1 Score: {:.4f}\".format(f1_score(dev_labels, dev_predictions, average='macro')))\n",
        "df_dev['predictions'] = dev_predictions\n",
        "df_dev.to_csv(\"NN_KNN_1_task5_Predictions.csv\", index=False)"
      ],
      "metadata": {
        "colab": {
          "base_uri": "https://localhost:8080/",
          "height": 504
        },
        "id": "CacDtHLkEbdZ",
        "outputId": "e13a8019-635c-454e-d04c-9c2b8a317e76"
      },
      "execution_count": 75,
      "outputs": [
        {
          "output_type": "display_data",
          "data": {
            "text/plain": [
              "<Figure size 640x480 with 2 Axes>"
            ],
            "image/png": "[encoded data removed]"
          },
          "metadata": {}
        },
        {
          "output_type": "stream",
          "name": "stdout",
          "text": [
            "Macro Precision: 0.5546\n",
            "Macro Recall: 0.5483\n",
            "Macro F1 Score: 0.5482\n"
          ]
        }
      ]
    },
    {
      "cell_type": "code",
      "source": [
        "from sklearn.neighbors import KNeighborsClassifier\n",
        "from sklearn.metrics import classification_report, confusion_matrix, ConfusionMatrixDisplay\n",
        "from sklearn.metrics import f1_score, precision_score, recall_score\n",
        "import matplotlib.pyplot as plt\n",
        "model = KNeighborsClassifier(n_neighbors=2)  # 'n_neighbors' defines how many neighbors to use\n",
        "model.fit(style_train_final, train_labels)\n",
        "dev_predictions = model.predict(style_dev_final)\n",
        "cm = confusion_matrix(dev_labels, dev_predictions)\n",
        "disp = ConfusionMatrixDisplay(confusion_matrix=cm)\n",
        "disp.plot(cmap='Reds')\n",
        "plt.show()\n",
        "print(\"Macro Precision: {:.4f}\".format(precision_score(dev_labels, dev_predictions, average='macro')))\n",
        "print(\"Macro Recall: {:.4f}\".format(recall_score(dev_labels, dev_predictions, average='macro')))\n",
        "print(\"Macro F1 Score: {:.4f}\".format(f1_score(dev_labels, dev_predictions, average='macro')))\n",
        "df_dev['predictions'] = dev_predictions\n",
        "df_dev.to_csv(\"NN_KNN_2_task5_Predictions.csv\", index=False)"
      ],
      "metadata": {
        "colab": {
          "base_uri": "https://localhost:8080/",
          "height": 504
        },
        "id": "jgI_bEV8HH5E",
        "outputId": "025ee10b-cec9-4424-edb4-ddfbc2c1aef8"
      },
      "execution_count": 76,
      "outputs": [
        {
          "output_type": "display_data",
          "data": {
            "text/plain": [
              "<Figure size 640x480 with 2 Axes>"
            ],
            "image/png": "[encoded data removed]"
          },
          "metadata": {}
        },
        {
          "output_type": "stream",
          "name": "stdout",
          "text": [
            "Macro Precision: 0.6481\n",
            "Macro Recall: 0.5378\n",
            "Macro F1 Score: 0.4901\n"
          ]
        }
      ]
    },
    {
      "cell_type": "code",
      "source": [
        "from sklearn.neighbors import KNeighborsClassifier\n",
        "from sklearn.metrics import classification_report, confusion_matrix, ConfusionMatrixDisplay\n",
        "from sklearn.metrics import f1_score, precision_score, recall_score\n",
        "import matplotlib.pyplot as plt\n",
        "model = KNeighborsClassifier(n_neighbors=3)  # 'n_neighbors' defines how many neighbors to use\n",
        "model.fit(style_train_final, train_labels)\n",
        "dev_predictions = model.predict(style_dev_final)\n",
        "cm = confusion_matrix(dev_labels, dev_predictions)\n",
        "disp = ConfusionMatrixDisplay(confusion_matrix=cm)\n",
        "disp.plot(cmap='Reds')\n",
        "plt.show()\n",
        "print(\"Macro Precision: {:.4f}\".format(precision_score(dev_labels, dev_predictions, average='macro')))\n",
        "print(\"Macro Recall: {:.4f}\".format(recall_score(dev_labels, dev_predictions, average='macro')))\n",
        "print(\"Macro F1 Score: {:.4f}\".format(f1_score(dev_labels, dev_predictions, average='macro')))\n",
        "df_dev['predictions'] = dev_predictions\n",
        "df_dev.to_csv(\"NN_KNN_3_task5_Predictions.csv\", index=False)"
      ],
      "metadata": {
        "colab": {
          "base_uri": "https://localhost:8080/",
          "height": 504
        },
        "id": "oCg_sQcOHH2H",
        "outputId": "c498a9d0-cf71-4774-817b-50a97f97224f"
      },
      "execution_count": 77,
      "outputs": [
        {
          "output_type": "display_data",
          "data": {
            "text/plain": [
              "<Figure size 640x480 with 2 Axes>"
            ],
            "image/png": "[encoded data removed]"
          },
          "metadata": {}
        },
        {
          "output_type": "stream",
          "name": "stdout",
          "text": [
            "Macro Precision: 0.5861\n",
            "Macro Recall: 0.5585\n",
            "Macro F1 Score: 0.5519\n"
          ]
        }
      ]
    },
    {
      "cell_type": "code",
      "source": [
        "from sklearn.neighbors import KNeighborsClassifier\n",
        "from sklearn.metrics import classification_report, confusion_matrix, ConfusionMatrixDisplay\n",
        "from sklearn.metrics import f1_score, precision_score, recall_score\n",
        "import matplotlib.pyplot as plt\n",
        "model = KNeighborsClassifier(n_neighbors=4)  # 'n_neighbors' defines how many neighbors to use\n",
        "model.fit(style_train_final, train_labels)\n",
        "dev_predictions = model.predict(style_dev_final)\n",
        "cm = confusion_matrix(dev_labels, dev_predictions)\n",
        "disp = ConfusionMatrixDisplay(confusion_matrix=cm)\n",
        "disp.plot(cmap='Reds')\n",
        "plt.show()\n",
        "print(\"Macro Precision: {:.4f}\".format(precision_score(dev_labels, dev_predictions, average='macro')))\n",
        "print(\"Macro Recall: {:.4f}\".format(recall_score(dev_labels, dev_predictions, average='macro')))\n",
        "print(\"Macro F1 Score: {:.4f}\".format(f1_score(dev_labels, dev_predictions, average='macro')))\n",
        "df_dev['predictions'] = dev_predictions\n",
        "df_dev.to_csv(\"NN_KNN_4_task5_Predictions.csv\", index=False)"
      ],
      "metadata": {
        "colab": {
          "base_uri": "https://localhost:8080/",
          "height": 504
        },
        "id": "SohZPdaGHHzu",
        "outputId": "be8808a5-106f-4c6b-e158-10a1cabb69d1"
      },
      "execution_count": 78,
      "outputs": [
        {
          "output_type": "display_data",
          "data": {
            "text/plain": [
              "<Figure size 640x480 with 2 Axes>"
            ],
            "image/png": "[encoded data removed]"
          },
          "metadata": {}
        },
        {
          "output_type": "stream",
          "name": "stdout",
          "text": [
            "Macro Precision: 0.5918\n",
            "Macro Recall: 0.5315\n",
            "Macro F1 Score: 0.4914\n"
          ]
        }
      ]
    },
    {
      "cell_type": "code",
      "source": [
        "from sklearn.neighbors import KNeighborsClassifier\n",
        "from sklearn.metrics import classification_report, confusion_matrix, ConfusionMatrixDisplay\n",
        "from sklearn.metrics import f1_score, precision_score, recall_score\n",
        "import matplotlib.pyplot as plt\n",
        "model = KNeighborsClassifier(n_neighbors=5)  # 'n_neighbors' defines how many neighbors to use\n",
        "model.fit(style_train_final, train_labels)\n",
        "dev_predictions = model.predict(style_dev_final)\n",
        "cm = confusion_matrix(dev_labels, dev_predictions)\n",
        "disp = ConfusionMatrixDisplay(confusion_matrix=cm)\n",
        "disp.plot(cmap='Reds')\n",
        "plt.show()\n",
        "print(\"Macro Precision: {:.4f}\".format(precision_score(dev_labels, dev_predictions, average='macro')))\n",
        "print(\"Macro Recall: {:.4f}\".format(recall_score(dev_labels, dev_predictions, average='macro')))\n",
        "print(\"Macro F1 Score: {:.4f}\".format(f1_score(dev_labels, dev_predictions, average='macro')))\n",
        "df_dev['predictions'] = dev_predictions\n",
        "df_dev.to_csv(\"NN_KNN_5_task5_Predictions.csv\", index=False)"
      ],
      "metadata": {
        "colab": {
          "base_uri": "https://localhost:8080/",
          "height": 504
        },
        "id": "BIF1-7grHHwo",
        "outputId": "34f6a647-1729-406e-8b00-a320bfd1f0cd"
      },
      "execution_count": 79,
      "outputs": [
        {
          "output_type": "display_data",
          "data": {
            "text/plain": [
              "<Figure size 640x480 with 2 Axes>"
            ],
            "image/png": "[encoded data removed]"
          },
          "metadata": {}
        },
        {
          "output_type": "stream",
          "name": "stdout",
          "text": [
            "Macro Precision: 0.6162\n",
            "Macro Recall: 0.5584\n",
            "Macro F1 Score: 0.5407\n"
          ]
        }
      ]
    },
    {
      "cell_type": "code",
      "source": [
        "from sklearn.neighbors import KNeighborsClassifier\n",
        "from sklearn.metrics import classification_report, confusion_matrix, ConfusionMatrixDisplay\n",
        "from sklearn.metrics import f1_score, precision_score, recall_score\n",
        "import matplotlib.pyplot as plt\n",
        "model = KNeighborsClassifier(n_neighbors=6)  # 'n_neighbors' defines how many neighbors to use\n",
        "model.fit(style_train_final, train_labels)\n",
        "dev_predictions = model.predict(style_dev_final)\n",
        "cm = confusion_matrix(dev_labels, dev_predictions)\n",
        "disp = ConfusionMatrixDisplay(confusion_matrix=cm)\n",
        "disp.plot(cmap='Reds')\n",
        "plt.show()\n",
        "print(\"Macro Precision: {:.4f}\".format(precision_score(dev_labels, dev_predictions, average='macro')))\n",
        "print(\"Macro Recall: {:.4f}\".format(recall_score(dev_labels, dev_predictions, average='macro')))\n",
        "print(\"Macro F1 Score: {:.4f}\".format(f1_score(dev_labels, dev_predictions, average='macro')))\n",
        "df_dev['predictions'] = dev_predictions\n",
        "df_dev.to_csv(\"NN_KNN_6_task5_Predictions.csv\", index=False)"
      ],
      "metadata": {
        "colab": {
          "base_uri": "https://localhost:8080/",
          "height": 504
        },
        "id": "FGfw7MvjHHtA",
        "outputId": "8ea66bc1-4f5c-4977-814d-1aa72f29f6c2"
      },
      "execution_count": 80,
      "outputs": [
        {
          "output_type": "display_data",
          "data": {
            "text/plain": [
              "<Figure size 640x480 with 2 Axes>"
            ],
            "image/png": "[encoded data removed]"
          },
          "metadata": {}
        },
        {
          "output_type": "stream",
          "name": "stdout",
          "text": [
            "Macro Precision: 0.6732\n",
            "Macro Recall: 0.5544\n",
            "Macro F1 Score: 0.5193\n"
          ]
        }
      ]
    },
    {
      "cell_type": "code",
      "source": [
        "from sklearn.neighbors import KNeighborsClassifier\n",
        "from sklearn.metrics import classification_report, confusion_matrix, ConfusionMatrixDisplay\n",
        "from sklearn.metrics import f1_score, precision_score, recall_score\n",
        "import matplotlib.pyplot as plt\n",
        "model = KNeighborsClassifier(n_neighbors=7)  # 'n_neighbors' defines how many neighbors to use\n",
        "model.fit(style_train_final, train_labels)\n",
        "dev_predictions = model.predict(style_dev_final)\n",
        "cm = confusion_matrix(dev_labels, dev_predictions)\n",
        "disp = ConfusionMatrixDisplay(confusion_matrix=cm)\n",
        "disp.plot(cmap='Reds')\n",
        "plt.show()\n",
        "print(\"Macro Precision: {:.4f}\".format(precision_score(dev_labels, dev_predictions, average='macro')))\n",
        "print(\"Macro Recall: {:.4f}\".format(recall_score(dev_labels, dev_predictions, average='macro')))\n",
        "print(\"Macro F1 Score: {:.4f}\".format(f1_score(dev_labels, dev_predictions, average='macro')))\n",
        "df_dev['predictions'] = dev_predictions\n",
        "df_dev.to_csv(\"NN_KNN_7_task5_Predictions.csv\", index=False)"
      ],
      "metadata": {
        "colab": {
          "base_uri": "https://localhost:8080/",
          "height": 504
        },
        "id": "PNPD_AK0HHnm",
        "outputId": "a06ec9e2-b8b6-4ed9-bd7c-5c0e76cb8f96"
      },
      "execution_count": 81,
      "outputs": [
        {
          "output_type": "display_data",
          "data": {
            "text/plain": [
              "<Figure size 640x480 with 2 Axes>"
            ],
            "image/png": "[encoded data removed]"
          },
          "metadata": {}
        },
        {
          "output_type": "stream",
          "name": "stdout",
          "text": [
            "Macro Precision: 0.6438\n",
            "Macro Recall: 0.5735\n",
            "Macro F1 Score: 0.5600\n"
          ]
        }
      ]
    },
    {
      "cell_type": "code",
      "source": [
        "import xgboost as xgb\n",
        "from sklearn.metrics import classification_report, confusion_matrix, ConfusionMatrixDisplay\n",
        "import matplotlib.pyplot as plt\n",
        "model = xgb.XGBClassifier(objective='binary:logistic', n_estimators=1690, learning_rate=1.00, max_depth=1, seed=69)\n",
        "model.fit(style_train_final, train_labels)\n",
        "dev_predictions = model.predict(style_dev_final)\n",
        "cm = confusion_matrix(dev_labels, dev_predictions)\n",
        "disp = ConfusionMatrixDisplay(confusion_matrix=cm)\n",
        "disp.plot(cmap='Reds')\n",
        "plt.show()\n",
        "print(\"Macro Precision: {:.4f}\".format(precision_score(dev_labels, dev_predictions, average='macro')))\n",
        "print(\"Macro Recall: {:.4f}\".format(recall_score(dev_labels, dev_predictions, average='macro')))\n",
        "print(\"Macro F1 Score: {:.4f}\".format(f1_score(dev_labels, dev_predictions, average='macro')))\n",
        "df_dev['predictions'] = dev_predictions\n",
        "df_dev.to_csv(\"NN_XGBoost_task5_Predictions.csv\", index=False)"
      ],
      "metadata": {
        "colab": {
          "base_uri": "https://localhost:8080/",
          "height": 504
        },
        "id": "3yvqI8LmJWqL",
        "outputId": "daadf5cb-86e0-4b2c-d07a-86aa26d9e76f"
      },
      "execution_count": 93,
      "outputs": [
        {
          "output_type": "display_data",
          "data": {
            "text/plain": [
              "<Figure size 640x480 with 2 Axes>"
            ],
            "image/png": "[encoded data removed]"
          },
          "metadata": {}
        },
        {
          "output_type": "stream",
          "name": "stdout",
          "text": [
            "Macro Precision: 0.7124\n",
            "Macro Recall: 0.6847\n",
            "Macro F1 Score: 0.6927\n"
          ]
        }
      ]
    },
    {
      "cell_type": "code",
      "source": [
        "from sklearn.ensemble import AdaBoostClassifier\n",
        "from sklearn.metrics import classification_report, confusion_matrix, ConfusionMatrixDisplay\n",
        "import matplotlib.pyplot as plt\n",
        "model = AdaBoostClassifier(n_estimators=100, learning_rate=1.0, random_state=69)\n",
        "model.fit(style_train_final, train_labels)\n",
        "dev_predictions = model.predict(style_dev_final)\n",
        "cm = confusion_matrix(dev_labels, dev_predictions)\n",
        "disp = ConfusionMatrixDisplay(confusion_matrix=cm)\n",
        "disp.plot(cmap='Reds')\n",
        "plt.show()\n",
        "print(\"Macro Precision: {:.4f}\".format(precision_score(dev_labels, dev_predictions, average='macro')))\n",
        "print(\"Macro Recall: {:.4f}\".format(recall_score(dev_labels, dev_predictions, average='macro')))\n",
        "print(\"Macro F1 Score: {:.4f}\".format(f1_score(dev_labels, dev_predictions, average='macro')))\n",
        "df_dev['predictions'] = dev_predictions\n",
        "df_dev.to_csv(\"NN_AdaBoost_task5_Predictions.csv\", index=False)"
      ],
      "metadata": {
        "colab": {
          "base_uri": "https://localhost:8080/",
          "height": 504
        },
        "id": "JXd6zIG_KwHt",
        "outputId": "109de111-9505-423c-f446-6b316de62dc9"
      },
      "execution_count": 95,
      "outputs": [
        {
          "output_type": "display_data",
          "data": {
            "text/plain": [
              "<Figure size 640x480 with 2 Axes>"
            ],
            "image/png": "[encoded data removed]"
          },
          "metadata": {}
        },
        {
          "output_type": "stream",
          "name": "stdout",
          "text": [
            "Macro Precision: 0.6946\n",
            "Macro Recall: 0.6323\n",
            "Macro F1 Score: 0.6369\n"
          ]
        }
      ]
    },
    {
      "cell_type": "code",
      "source": [
        "from sklearn.neural_network import MLPClassifier\n",
        "from sklearn.metrics import classification_report, confusion_matrix, ConfusionMatrixDisplay\n",
        "import matplotlib.pyplot as plt\n",
        "model = MLPClassifier(hidden_layer_sizes=(100,), max_iter=1000, activation='relu', solver='adam', random_state=69)\n",
        "model.fit(style_train_final, train_labels)\n",
        "dev_predictions = model.predict(style_dev_final)\n",
        "cm = confusion_matrix(dev_labels, dev_predictions)\n",
        "disp = ConfusionMatrixDisplay(confusion_matrix=cm)\n",
        "disp.plot(cmap='Reds')\n",
        "plt.show()\n",
        "print(\"Macro Precision: {:.4f}\".format(precision_score(dev_labels, dev_predictions, average='macro')))\n",
        "print(\"Macro Recall: {:.4f}\".format(recall_score(dev_labels, dev_predictions, average='macro')))\n",
        "print(\"Macro F1 Score: {:.4f}\".format(f1_score(dev_labels, dev_predictions, average='macro')))\n",
        "df_dev['predictions'] = dev_predictions\n",
        "df_dev.to_csv(\"NN_MLP_task5_Predictions.csv\", index=False)"
      ],
      "metadata": {
        "colab": {
          "base_uri": "https://localhost:8080/",
          "height": 504
        },
        "id": "fpB9znC3B-0t",
        "outputId": "f28a00e4-8cbb-4aed-d39e-05fd10471cde"
      },
      "execution_count": 96,
      "outputs": [
        {
          "output_type": "display_data",
          "data": {
            "text/plain": [
              "<Figure size 640x480 with 2 Axes>"
            ],
            "image/png": "[encoded data removed]"
          },
          "metadata": {}
        },
        {
          "output_type": "stream",
          "name": "stdout",
          "text": [
            "Macro Precision: 0.7239\n",
            "Macro Recall: 0.6584\n",
            "Macro F1 Score: 0.6671\n"
          ]
        }
      ]
    }
  ]
}